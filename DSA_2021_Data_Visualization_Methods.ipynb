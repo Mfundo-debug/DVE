{
  "nbformat": 4,
  "nbformat_minor": 0,
  "metadata": {
    "colab": {
      "name": "DSA 2021 - Data Visualization Methods",
      "provenance": [],
      "collapsed_sections": []
    },
    "kernelspec": {
      "display_name": "Python 3",
      "name": "python3"
    },
    "language_info": {
      "name": "python"
    }
  },
  "cells": [
    {
      "cell_type": "markdown",
      "metadata": {
        "id": "cuIbnXIFnbOn"
      },
      "source": [
        ""
      ]
    },
    {
      "cell_type": "markdown",
      "metadata": {
        "id": "V7qpp3-acnTZ"
      },
      "source": [
        "#**Matplotlib**"
      ]
    },
    {
      "cell_type": "markdown",
      "metadata": {
        "id": "A7rKJCKAci93"
      },
      "source": [
        "\n",
        "Matplotlib is an excellent 2D and 3D graphics library for generating scientific figures. \n",
        "\n",
        "Some of the major Pros of Matplotlib are:\n",
        "\n",
        "* Generally easy to get started for simple plots\n",
        "* Support for custom labels and texts\n",
        "* Great control of every element in a figure\n",
        "* High-quality output in many formats\n",
        "* Very customizable in general\n",
        "\n",
        "\n",
        "## Installation \n",
        "\n",
        "You'll need to install matplotlib first with either:\n",
        "\n",
        "    conda install matplotlib\n",
        "or\n",
        "    pip install matplotlib\n",
        "    \n"
      ]
    },
    {
      "cell_type": "code",
      "metadata": {
        "id": "JqaTgSAwch5V"
      },
      "source": [
        "import pandas as pd\n",
        "import matplotlib.pyplot as plt\n",
        "import calendar"
      ],
      "execution_count": null,
      "outputs": []
    },
    {
      "cell_type": "code",
      "metadata": {
        "id": "RtM-nLm9X47W"
      },
      "source": [
        "import numpy as np\n",
        "x = np.linspace(0, 5, 11)\n",
        "y = x ** 2\n",
        "z= x*3"
      ],
      "execution_count": null,
      "outputs": []
    },
    {
      "cell_type": "code",
      "metadata": {
        "id": "ZLX5EQM3QAdV",
        "colab": {
          "base_uri": "https://localhost:8080/"
        },
        "outputId": "7263da51-cc22-4e1f-ed7a-397e2a281067"
      },
      "source": [
        "x"
      ],
      "execution_count": null,
      "outputs": [
        {
          "output_type": "execute_result",
          "data": {
            "text/plain": [
              "array([0. , 0.5, 1. , 1.5, 2. , 2.5, 3. , 3.5, 4. , 4.5, 5. ])"
            ]
          },
          "metadata": {},
          "execution_count": 18
        }
      ]
    },
    {
      "cell_type": "code",
      "metadata": {
        "id": "cPjtY6-MQOrc",
        "colab": {
          "base_uri": "https://localhost:8080/"
        },
        "outputId": "c9e16a59-2786-47a1-b0cd-5f960a03b6d5"
      },
      "source": [
        "y"
      ],
      "execution_count": null,
      "outputs": [
        {
          "output_type": "execute_result",
          "data": {
            "text/plain": [
              "array([ 0.  ,  0.25,  1.  ,  2.25,  4.  ,  6.25,  9.  , 12.25, 16.  ,\n",
              "       20.25, 25.  ])"
            ]
          },
          "metadata": {},
          "execution_count": 19
        }
      ]
    },
    {
      "cell_type": "code",
      "metadata": {
        "colab": {
          "base_uri": "https://localhost:8080/",
          "height": 295
        },
        "id": "w6TIfOOP8MS3",
        "outputId": "f0ee9b04-a47b-4f6b-cbeb-db29f2a0b0c2"
      },
      "source": [
        "plt.plot(x, y, 'r') # 'r' is the color red\n",
        "plt.xlabel('X Axis Title Here')\n",
        "plt.ylabel('Y Axis Title Here')\n",
        "plt.title('String Title Here')\n",
        "plt.show()"
      ],
      "execution_count": null,
      "outputs": [
        {
          "output_type": "display_data",
          "data": {
            "image/png": "[encoded data removed]",
            "text/plain": [
              "<Figure size 432x288 with 1 Axes>"
            ]
          },
          "metadata": {
            "needs_background": "light"
          }
        }
      ]
    },
    {
      "cell_type": "code",
      "metadata": {
        "colab": {
          "base_uri": "https://localhost:8080/",
          "height": 265
        },
        "id": "HWXLYAns8MU9",
        "outputId": "af505a6e-dbae-4940-bebc-bc1de2301448"
      },
      "source": [
        "# plt.subplot(nrows, ncols, plot_number)\n",
        "plt.subplot(2,1,1)\n",
        "plt.plot(x, y, 'r--') # More on color options later\n",
        "plt.subplot(2,1,2)\n",
        "plt.plot(y, z, 'g*-');"
      ],
      "execution_count": null,
      "outputs": [
        {
          "output_type": "display_data",
          "data": {
            "image/png": "[encoded data removed]",
            "text/plain": [
              "<Figure size 432x288 with 2 Axes>"
            ]
          },
          "metadata": {
            "needs_background": "light"
          }
        }
      ]
    },
    {
      "cell_type": "code",
      "metadata": {
        "id": "TLvfGDtQ8a8W"
      },
      "source": [
        ""
      ],
      "execution_count": null,
      "outputs": []
    },
    {
      "cell_type": "markdown",
      "metadata": {
        "id": "XZsP0lUz8gsW"
      },
      "source": [
        "___\n",
        "# Matplotlib Object Oriented Method\n",
        "Now that we've seen the basics, let's break it all down with a more formal introduction of Matplotlib's Object Oriented API. This means we will instantiate figure objects and then call methods or attributes from that object."
      ]
    },
    {
      "cell_type": "code",
      "metadata": {
        "colab": {
          "base_uri": "https://localhost:8080/",
          "height": 325
        },
        "id": "3WHeaA298jAY",
        "outputId": "abece548-010d-47b0-a8a2-1a26fe2c8bdc"
      },
      "source": [
        "# Create Figure (empty canvas)\n",
        "fig = plt.figure()\n",
        "\n",
        "# Add set of axes to figure\n",
        "axes = fig.add_axes([0.1, 0.1, 0.8, 0.8]) # left, bottom, width, height (range 0 to 1)\n",
        "\n",
        "# Plot on that set of axes\n",
        "axes.plot(x, y, 'b')\n",
        "axes.set_xlabel('Set X Label') # Notice the use of set_ to begin methods\n",
        "axes.set_ylabel('Set y Label')\n",
        "axes.set_title('Set Title')"
      ],
      "execution_count": null,
      "outputs": [
        {
          "output_type": "execute_result",
          "data": {
            "text/plain": [
              "Text(0.5, 1.0, 'Set Title')"
            ]
          },
          "metadata": {},
          "execution_count": 9
        },
        {
          "output_type": "display_data",
          "data": {
            "image/png": "[encoded data removed]",
            "text/plain": [
              "<Figure size 432x288 with 1 Axes>"
            ]
          },
          "metadata": {
            "needs_background": "light"
          }
        }
      ]
    },
    {
      "cell_type": "markdown",
      "metadata": {
        "id": "i-P89aoy8yRX"
      },
      "source": [
        "Code is a little more complicated, but the advantage is that we now have full control of where the plot axes are placed, and we can easily add more than one axis to the figure:"
      ]
    },
    {
      "cell_type": "code",
      "metadata": {
        "colab": {
          "base_uri": "https://localhost:8080/",
          "height": 309
        },
        "id": "OIUNtEBT8r4W",
        "outputId": "c331f80e-558c-4f45-d8aa-464f22324045"
      },
      "source": [
        "# Creates blank canvas\n",
        "fig = plt.figure()\n",
        "\n",
        "axes1 = fig.add_axes([0.1, 0.1, 0.8, 0.8]) # main axes\n",
        "axes2 = fig.add_axes([0.2, 0.5, 0.4, 0.3]) # inset axes\n",
        "\n",
        "# Larger Figure Axes 1\n",
        "axes1.plot(x, y, 'b')\n",
        "axes1.set_xlabel('X_label_axes2')\n",
        "axes1.set_ylabel('Y_label_axes2')\n",
        "axes1.set_title('Axes 2 Title')\n",
        "\n",
        "# Insert Figure Axes 2\n",
        "axes2.plot(y, x, 'r')\n",
        "axes2.set_xlabel('X_label_axes2')\n",
        "axes2.set_ylabel('Y_label_axes2')\n",
        "axes2.set_title('Axes 2 Title');"
      ],
      "execution_count": null,
      "outputs": [
        {
          "output_type": "display_data",
          "data": {
            "image/png": "[encoded data removed]",
            "text/plain": [
              "<Figure size 432x288 with 2 Axes>"
            ]
          },
          "metadata": {
            "needs_background": "light"
          }
        }
      ]
    },
    {
      "cell_type": "markdown",
      "metadata": {
        "id": "3euS930p_T5b"
      },
      "source": [
        "### Figure size, aspect ratio and DPI\n",
        "Matplotlib allows the aspect ratio, DPI and figure size to be specified when the Figure object is created. You can use the `figsize` and `dpi` keyword arguments. \n",
        "* `figsize` is a tuple of the width and height of the figure in inches\n",
        "* `dpi` is the dots-per-inch (pixel per inch). \n",
        "\n",
        "For example:"
      ]
    },
    {
      "cell_type": "code",
      "metadata": {
        "colab": {
          "base_uri": "https://localhost:8080/",
          "height": 34
        },
        "id": "gp99fMBS8r-M",
        "outputId": "d47ecdc5-34e8-41f0-8970-63f364a047cd"
      },
      "source": [
        "fig = plt.figure(figsize=(8,4), dpi=100)"
      ],
      "execution_count": null,
      "outputs": [
        {
          "output_type": "display_data",
          "data": {
            "text/plain": [
              "<Figure size 800x400 with 0 Axes>"
            ]
          },
          "metadata": {}
        }
      ]
    },
    {
      "cell_type": "markdown",
      "metadata": {
        "id": "p2A-sffE_kRT"
      },
      "source": [
        "The same arguments can also be passed to layout managers, such as the `subplots` function:"
      ]
    },
    {
      "cell_type": "code",
      "metadata": {
        "colab": {
          "base_uri": "https://localhost:8080/",
          "height": 241
        },
        "id": "4shZOKVP_Zyc",
        "outputId": "782351fd-e6d3-4e4b-e81b-7a48392e0a66"
      },
      "source": [
        "fig, axes = plt.subplots(figsize=(12,3))\n",
        "\n",
        "axes.plot(x, y, 'r')\n",
        "axes.set_xlabel('x')\n",
        "axes.set_ylabel('y')\n",
        "axes.set_title('title');"
      ],
      "execution_count": null,
      "outputs": [
        {
          "output_type": "display_data",
          "data": {
            "image/png": "[encoded data removed]",
            "text/plain": [
              "<Figure size 864x216 with 1 Axes>"
            ]
          },
          "metadata": {
            "needs_background": "light"
          }
        }
      ]
    },
    {
      "cell_type": "markdown",
      "metadata": {
        "id": "W-oG1M6tAcpL"
      },
      "source": [
        "## Saving figures\n",
        "Matplotlib can generate high-quality output in a number formats, including PNG, JPG, EPS, SVG, PGF and PDF. \n",
        "\n",
        "To save a figure to a file we can use the `savefig` method in the `Figure` class:"
      ]
    },
    {
      "cell_type": "code",
      "metadata": {
        "id": "UXV3aJCsAgYc"
      },
      "source": [
        "fig.savefig(\"dsa21.png\")"
      ],
      "execution_count": null,
      "outputs": []
    },
    {
      "cell_type": "markdown",
      "metadata": {
        "id": "BHhosJQ8An0R"
      },
      "source": [
        "Here we can also optionally specify the DPI and choose between different output formats:"
      ]
    },
    {
      "cell_type": "code",
      "metadata": {
        "id": "ioK9rcmSAj53"
      },
      "source": [
        "fig.savefig(\"dsa2021.png\", dpi=200)"
      ],
      "execution_count": null,
      "outputs": []
    },
    {
      "cell_type": "markdown",
      "metadata": {
        "id": "F9g9Bg8JA-FM"
      },
      "source": [
        "Now that we have covered the basics of how to create a figure canvas and add axes instances to the canvas, let's look at how decorate a figure with \n",
        " legends."
      ]
    },
    {
      "cell_type": "markdown",
      "metadata": {
        "id": "kQrTi955BMq-"
      },
      "source": [
        "### Legends\n",
        "\n",
        "You can use the **label=\"label text\"** keyword argument when plots or other objects are added to the figure, and then using the **legend** method without arguments to add the legend to the figure: "
      ]
    },
    {
      "cell_type": "code",
      "metadata": {
        "colab": {
          "base_uri": "https://localhost:8080/",
          "height": 353
        },
        "id": "93ODk2zRBNnf",
        "outputId": "906c99f7-a1ce-4a5d-e961-05f6bb07dffd"
      },
      "source": [
        "fig = plt.figure()\n",
        "\n",
        "ax = fig.add_axes([0,0,1,1])\n",
        "\n",
        "ax.plot(x, x**2, label=\"x**2\")\n",
        "ax.plot(x, x**3, label=\"x**3\")\n",
        "ax.legend()"
      ],
      "execution_count": null,
      "outputs": [
        {
          "output_type": "execute_result",
          "data": {
            "text/plain": [
              "<matplotlib.legend.Legend at 0x7f06a1fd08d0>"
            ]
          },
          "metadata": {},
          "execution_count": 14
        },
        {
          "output_type": "display_data",
          "data": {
            "image/png": "[encoded data removed]",
            "text/plain": [
              "<Figure size 432x288 with 1 Axes>"
            ]
          },
          "metadata": {
            "needs_background": "light"
          }
        }
      ]
    },
    {
      "cell_type": "markdown",
      "metadata": {
        "id": "LZ76u0SWCWvj"
      },
      "source": [
        "Notice how are legend overlaps some of the actual plot!\n",
        "\n",
        "The **legend** function takes an optional keyword argument **loc** that can be used to specify where in the figure the legend is to be drawn. The allowed values of **loc** are numerical codes for the various places the legend can be drawn."
      ]
    },
    {
      "cell_type": "code",
      "metadata": {
        "colab": {
          "base_uri": "https://localhost:8080/",
          "height": 336
        },
        "id": "ZV93z2JLCbOd",
        "outputId": "12313e3e-d9a5-4b70-c72a-97030b2ec5bf"
      },
      "source": [
        "# Lots of options....\n",
        "\n",
        "ax.legend(loc=1) # upper right corner\n",
        "ax.legend(loc=2) # upper left corner\n",
        "ax.legend(loc=3) # lower left corner\n",
        "ax.legend(loc=4) # lower right corner\n",
        "\n",
        "# .. many more options are available\n",
        "\n",
        "# Most common to choose\n",
        "#ax.legend(loc=0) # let matplotlib decide the optimal location\n",
        "fig\n"
      ],
      "execution_count": null,
      "outputs": [
        {
          "output_type": "execute_result",
          "data": {
            "image/png": "[encoded data removed]",
            "text/plain": [
              "<Figure size 432x288 with 1 Axes>"
            ]
          },
          "metadata": {},
          "execution_count": 16
        }
      ]
    },
    {
      "cell_type": "markdown",
      "metadata": {
        "id": "uxi_Be3lCZky"
      },
      "source": [
        "# Distribution Plots\n",
        "\n",
        "Let's discuss some plots that allow us to visualize the distribution of a data set. These plots are:\n",
        "\n",
        "* distplot\n",
        "* jointplot\n",
        "* pairplot"
      ]
    },
    {
      "cell_type": "markdown",
      "metadata": {
        "id": "6xxnARZdOKIZ"
      },
      "source": [
        "# Seaborn\n",
        "\n",
        "Seaborn is a Python data visualization library based on matplotlib. It provides a high-level interface for drawing attractive its dataset-oriented plotting functions operate on dataframes and arrays containing whole datasets and internally perform the necessary semantic mapping and statistical aggregation to produce informative plots."
      ]
    },
    {
      "cell_type": "code",
      "metadata": {
        "id": "zsubCKDxDGNy"
      },
      "source": [
        "import seaborn as sns"
      ],
      "execution_count": null,
      "outputs": []
    },
    {
      "cell_type": "code",
      "metadata": {
        "id": "xyt21efdDKzN"
      },
      "source": [
        "tips = sns.load_dataset('tips')"
      ],
      "execution_count": null,
      "outputs": []
    },
    {
      "cell_type": "code",
      "metadata": {
        "colab": {
          "base_uri": "https://localhost:8080/",
          "height": 206
        },
        "id": "If3CR3lBDL3m",
        "outputId": "dacd386e-4e8b-4c78-8e3f-59f5bdd7a792"
      },
      "source": [
        "tips.head()"
      ],
      "execution_count": null,
      "outputs": [
        {
          "output_type": "execute_result",
          "data": {
            "text/html": [
              "<div>\n",
              "<style scoped>\n",
              "    .dataframe tbody tr th:only-of-type {\n",
              "        vertical-align: middle;\n",
              "    }\n",
              "\n",
              "    .dataframe tbody tr th {\n",
              "        vertical-align: top;\n",
              "    }\n",
              "\n",
              "    .dataframe thead th {\n",
              "        text-align: right;\n",
              "    }\n",
              "</style>\n",
              "<table border=\"1\" class=\"dataframe\">\n",
              "  <thead>\n",
              "    <tr style=\"text-align: right;\">\n",
              "      <th></th>\n",
              "      <th>total_bill</th>\n",
              "      <th>tip</th>\n",
              "      <th>sex</th>\n",
              "      <th>smoker</th>\n",
              "      <th>day</th>\n",
              "      <th>time</th>\n",
              "      <th>size</th>\n",
              "    </tr>\n",
              "  </thead>\n",
              "  <tbody>\n",
              "    <tr>\n",
              "      <th>0</th>\n",
              "      <td>16.99</td>\n",
              "      <td>1.01</td>\n",
              "      <td>Female</td>\n",
              "      <td>No</td>\n",
              "      <td>Sun</td>\n",
              "      <td>Dinner</td>\n",
              "      <td>2</td>\n",
              "    </tr>\n",
              "    <tr>\n",
              "      <th>1</th>\n",
              "      <td>10.34</td>\n",
              "      <td>1.66</td>\n",
              "      <td>Male</td>\n",
              "      <td>No</td>\n",
              "      <td>Sun</td>\n",
              "      <td>Dinner</td>\n",
              "      <td>3</td>\n",
              "    </tr>\n",
              "    <tr>\n",
              "      <th>2</th>\n",
              "      <td>21.01</td>\n",
              "      <td>3.50</td>\n",
              "      <td>Male</td>\n",
              "      <td>No</td>\n",
              "      <td>Sun</td>\n",
              "      <td>Dinner</td>\n",
              "      <td>3</td>\n",
              "    </tr>\n",
              "    <tr>\n",
              "      <th>3</th>\n",
              "      <td>23.68</td>\n",
              "      <td>3.31</td>\n",
              "      <td>Male</td>\n",
              "      <td>No</td>\n",
              "      <td>Sun</td>\n",
              "      <td>Dinner</td>\n",
              "      <td>2</td>\n",
              "    </tr>\n",
              "    <tr>\n",
              "      <th>4</th>\n",
              "      <td>24.59</td>\n",
              "      <td>3.61</td>\n",
              "      <td>Female</td>\n",
              "      <td>No</td>\n",
              "      <td>Sun</td>\n",
              "      <td>Dinner</td>\n",
              "      <td>4</td>\n",
              "    </tr>\n",
              "  </tbody>\n",
              "</table>\n",
              "</div>"
            ],
            "text/plain": [
              "   total_bill   tip     sex smoker  day    time  size\n",
              "0       16.99  1.01  Female     No  Sun  Dinner     2\n",
              "1       10.34  1.66    Male     No  Sun  Dinner     3\n",
              "2       21.01  3.50    Male     No  Sun  Dinner     3\n",
              "3       23.68  3.31    Male     No  Sun  Dinner     2\n",
              "4       24.59  3.61  Female     No  Sun  Dinner     4"
            ]
          },
          "metadata": {},
          "execution_count": 19
        }
      ]
    },
    {
      "cell_type": "markdown",
      "metadata": {
        "id": "RFuZsvbQDWFM"
      },
      "source": [
        "## distplot\n",
        "\n",
        "The distplot shows the distribution of a univariate set of observations."
      ]
    },
    {
      "cell_type": "code",
      "metadata": {
        "colab": {
          "base_uri": "https://localhost:8080/",
          "height": 354
        },
        "id": "RjiDTI8NDY42",
        "outputId": "b1a90823-4e71-43ec-c28f-5e96f9bbec62"
      },
      "source": [
        "sns.distplot(tips['total_bill'])\n",
        "# Safe to ignore warnings"
      ],
      "execution_count": null,
      "outputs": [
        {
          "output_type": "stream",
          "name": "stderr",
          "text": [
            "/usr/local/lib/python3.7/dist-packages/seaborn/distributions.py:2619: FutureWarning: `distplot` is a deprecated function and will be removed in a future version. Please adapt your code to use either `displot` (a figure-level function with similar flexibility) or `histplot` (an axes-level function for histograms).\n",
            "  warnings.warn(msg, FutureWarning)\n"
          ]
        },
        {
          "output_type": "execute_result",
          "data": {
            "text/plain": [
              "<matplotlib.axes._subplots.AxesSubplot at 0x7f06a1f1b090>"
            ]
          },
          "metadata": {},
          "execution_count": 20
        },
        {
          "output_type": "display_data",
          "data": {
            "image/png": "[encoded data removed]",
            "text/plain": [
              "<Figure size 432x288 with 1 Axes>"
            ]
          },
          "metadata": {
            "needs_background": "light"
          }
        }
      ]
    },
    {
      "cell_type": "markdown",
      "metadata": {
        "id": "xv0y6-0eFFmd"
      },
      "source": [
        "## jointplot\n",
        "\n",
        "jointplot() allows you to basically match up two distplots for bivariate data. With your choice of what **kind** parameter to compare with: \n",
        "* “scatter” \n",
        "* “reg” \n",
        "* “hex”"
      ]
    },
    {
      "cell_type": "code",
      "metadata": {
        "colab": {
          "base_uri": "https://localhost:8080/",
          "height": 458
        },
        "id": "SstaLPUfFGjb",
        "outputId": "94eda2a4-c220-4f66-fff4-75b01b628956"
      },
      "source": [
        "sns.jointplot(x='total_bill',y='tip',data=tips,kind='scatter')"
      ],
      "execution_count": null,
      "outputs": [
        {
          "output_type": "execute_result",
          "data": {
            "text/plain": [
              "<seaborn.axisgrid.JointGrid at 0x7f06a1fdbed0>"
            ]
          },
          "metadata": {},
          "execution_count": 21
        },
        {
          "output_type": "display_data",
          "data": {
            "image/png": "[encoded data removed]",
            "text/plain": [
              "<Figure size 432x432 with 3 Axes>"
            ]
          },
          "metadata": {
            "needs_background": "light"
          }
        }
      ]
    },
    {
      "cell_type": "code",
      "metadata": {
        "colab": {
          "base_uri": "https://localhost:8080/",
          "height": 458
        },
        "id": "FowImidlFPjW",
        "outputId": "f963378a-380c-475d-df29-7c6f136503b4"
      },
      "source": [
        "sns.jointplot(x='total_bill',y='tip',data=tips,kind='reg')"
      ],
      "execution_count": null,
      "outputs": [
        {
          "output_type": "execute_result",
          "data": {
            "text/plain": [
              "<seaborn.axisgrid.JointGrid at 0x7f06883b4f50>"
            ]
          },
          "metadata": {},
          "execution_count": 23
        },
        {
          "output_type": "display_data",
          "data": {
            "image/png": "[encoded data removed]",
            "text/plain": [
              "<Figure size 432x432 with 3 Axes>"
            ]
          },
          "metadata": {
            "needs_background": "light"
          }
        }
      ]
    },
    {
      "cell_type": "markdown",
      "metadata": {
        "id": "j-VYny6GFgSv"
      },
      "source": [
        "## pairplot\n",
        "\n",
        "pairplot will plot pairwise relationships across an entire dataframe (for the numerical columns) and supports a color hue argument (for categorical columns). "
      ]
    },
    {
      "cell_type": "code",
      "metadata": {
        "colab": {
          "base_uri": "https://localhost:8080/",
          "height": 567
        },
        "id": "toprYZRkFhEw",
        "outputId": "7e6acaf7-7529-4611-f3f0-33ca1a33f415"
      },
      "source": [
        "sns.pairplot(tips)"
      ],
      "execution_count": null,
      "outputs": [
        {
          "output_type": "execute_result",
          "data": {
            "text/plain": [
              "<seaborn.axisgrid.PairGrid at 0x7f06883d43d0>"
            ]
          },
          "metadata": {},
          "execution_count": 24
        },
        {
          "output_type": "display_data",
          "data": {
            "image/png": "[encoded data removed]",
            "text/plain": [
              "<Figure size 540x540 with 12 Axes>"
            ]
          },
          "metadata": {
            "needs_background": "light"
          }
        }
      ]
    },
    {
      "cell_type": "code",
      "metadata": {
        "colab": {
          "base_uri": "https://localhost:8080/",
          "height": 567
        },
        "id": "w-t2wUUgFjgL",
        "outputId": "001c9ca4-cd52-4dd1-b461-2aa6dd2ecd76"
      },
      "source": [
        "sns.pairplot(tips,hue='sex',palette='coolwarm')"
      ],
      "execution_count": null,
      "outputs": [
        {
          "output_type": "execute_result",
          "data": {
            "text/plain": [
              "<seaborn.axisgrid.PairGrid at 0x7f0687d7b910>"
            ]
          },
          "metadata": {},
          "execution_count": 25
        },
        {
          "output_type": "display_data",
          "data": {
            "image/png": "[encoded data removed]",
            "text/plain": [
              "<Figure size 612.125x540 with 12 Axes>"
            ]
          },
          "metadata": {
            "needs_background": "light"
          }
        }
      ]
    },
    {
      "cell_type": "markdown",
      "metadata": {
        "id": "MGs-HcROHWph"
      },
      "source": [
        "# Categorical Data Plots\n",
        "\n",
        "Now let's discuss using seaborn to plot categorical data! There are a few main plot types for this:\n",
        "\n",
        "* factorplot\n",
        "* boxplot\n",
        "* violinplot\n",
        "* stripplot\n",
        "* swarmplot\n",
        "* barplot\n",
        "* countplot\n",
        "\n"
      ]
    },
    {
      "cell_type": "markdown",
      "metadata": {
        "id": "kJnE4EWHHgWT"
      },
      "source": [
        "## barplot and countplot\n",
        "\n",
        "These very similar plots allow you to get aggregate data off a categorical feature in your data. **barplot** is a general plot that allows you to aggregate the categorical data based off some function, by default the mean:"
      ]
    },
    {
      "cell_type": "code",
      "metadata": {
        "colab": {
          "base_uri": "https://localhost:8080/",
          "height": 296
        },
        "id": "VQK6rJF6Hhi9",
        "outputId": "b095b77c-8b03-45b9-8171-fc794d27e891"
      },
      "source": [
        "sns.barplot(x='sex',y='total_bill',data=tips)"
      ],
      "execution_count": null,
      "outputs": [
        {
          "output_type": "execute_result",
          "data": {
            "text/plain": [
              "<matplotlib.axes._subplots.AxesSubplot at 0x7f0687935050>"
            ]
          },
          "metadata": {},
          "execution_count": 26
        },
        {
          "output_type": "display_data",
          "data": {
            "image/png": "[encoded data removed]",
            "text/plain": [
              "<Figure size 432x288 with 1 Axes>"
            ]
          },
          "metadata": {
            "needs_background": "light"
          }
        }
      ]
    },
    {
      "cell_type": "markdown",
      "metadata": {
        "id": "oedvEyxOHxfl"
      },
      "source": [
        "### countplot\n",
        "\n",
        "This is essentially the same as barplot except the estimator is explicitly counting the number of occurrences. Which is why we only pass the x value:"
      ]
    },
    {
      "cell_type": "code",
      "metadata": {
        "colab": {
          "base_uri": "https://localhost:8080/",
          "height": 296
        },
        "id": "CRHz9N7qHpLs",
        "outputId": "3848535d-5352-4cce-9972-db74fdbecd30"
      },
      "source": [
        "sns.countplot(x='sex',data=tips)"
      ],
      "execution_count": null,
      "outputs": [
        {
          "output_type": "execute_result",
          "data": {
            "text/plain": [
              "<matplotlib.axes._subplots.AxesSubplot at 0x7f06860ef290>"
            ]
          },
          "metadata": {},
          "execution_count": 27
        },
        {
          "output_type": "display_data",
          "data": {
            "image/png": "[encoded data removed]",
            "text/plain": [
              "<Figure size 432x288 with 1 Axes>"
            ]
          },
          "metadata": {
            "needs_background": "light"
          }
        }
      ]
    },
    {
      "cell_type": "markdown",
      "metadata": {
        "id": "BTirrg1sH4pg"
      },
      "source": [
        "## boxplot\n",
        "\n",
        "Boxplots are used to shown the distribution of categorical data. A box plot (or box-and-whisker plot) shows the distribution of quantitative data in a way that facilitates comparisons between variables or across levels of a categorical variable."
      ]
    },
    {
      "cell_type": "code",
      "metadata": {
        "colab": {
          "base_uri": "https://localhost:8080/",
          "height": 296
        },
        "id": "ucDWRZBSH1A5",
        "outputId": "74ae01fe-b0fb-40e4-bf7e-814efa31f21e"
      },
      "source": [
        "sns.boxplot(x=\"day\", y=\"total_bill\", data=tips,palette='rainbow')"
      ],
      "execution_count": null,
      "outputs": [
        {
          "output_type": "execute_result",
          "data": {
            "text/plain": [
              "<matplotlib.axes._subplots.AxesSubplot at 0x7f0686060450>"
            ]
          },
          "metadata": {},
          "execution_count": 28
        },
        {
          "output_type": "display_data",
          "data": {
            "image/png": "[encoded data removed]",
            "text/plain": [
              "<Figure size 432x288 with 1 Axes>"
            ]
          },
          "metadata": {
            "needs_background": "light"
          }
        }
      ]
    },
    {
      "cell_type": "code",
      "metadata": {
        "colab": {
          "base_uri": "https://localhost:8080/",
          "height": 296
        },
        "id": "KsXOpQzvH8YD",
        "outputId": "45b2c651-b7f9-439f-a67c-9b3456cd2212"
      },
      "source": [
        "sns.boxplot(x=\"day\", y=\"total_bill\", hue=\"smoker\",data=tips, palette=\"coolwarm\")"
      ],
      "execution_count": null,
      "outputs": [
        {
          "output_type": "execute_result",
          "data": {
            "text/plain": [
              "<matplotlib.axes._subplots.AxesSubplot at 0x7f068600cd50>"
            ]
          },
          "metadata": {},
          "execution_count": 29
        },
        {
          "output_type": "display_data",
          "data": {
            "image/png": "[encoded data removed]",
            "text/plain": [
              "<Figure size 432x288 with 1 Axes>"
            ]
          },
          "metadata": {
            "needs_background": "light"
          }
        }
      ]
    },
    {
      "cell_type": "markdown",
      "metadata": {
        "id": "D8COff0YIhfO"
      },
      "source": [
        "## stripplot \n",
        "The stripplot will draw a scatterplot where one variable is categorical. A strip plot can be drawn on its own, but it is also a good complement to a box or violin plot in cases where you want to show all observations along with some representation of the underlying distribution.\n",
        "\n"
      ]
    },
    {
      "cell_type": "code",
      "metadata": {
        "colab": {
          "base_uri": "https://localhost:8080/",
          "height": 296
        },
        "id": "B5_XV0U1IehX",
        "outputId": "37d5a6ac-63ad-43b9-f39e-6aa7a347cddc"
      },
      "source": [
        "sns.stripplot(x=\"day\", y=\"total_bill\", data=tips)"
      ],
      "execution_count": null,
      "outputs": [
        {
          "output_type": "execute_result",
          "data": {
            "text/plain": [
              "<matplotlib.axes._subplots.AxesSubplot at 0x7f0685ef8750>"
            ]
          },
          "metadata": {},
          "execution_count": 30
        },
        {
          "output_type": "display_data",
          "data": {
            "image/png": "[encoded data removed]",
            "text/plain": [
              "<Figure size 432x288 with 1 Axes>"
            ]
          },
          "metadata": {
            "needs_background": "light"
          }
        }
      ]
    },
    {
      "cell_type": "code",
      "metadata": {
        "colab": {
          "base_uri": "https://localhost:8080/",
          "height": 296
        },
        "id": "g2sa0AJCIlm4",
        "outputId": "f852ceae-b4c9-44bc-976b-9017865899ff"
      },
      "source": [
        "sns.stripplot(x=\"day\", y=\"total_bill\", data=tips,jitter=True,hue='sex',palette='Set1')"
      ],
      "execution_count": null,
      "outputs": [
        {
          "output_type": "execute_result",
          "data": {
            "text/plain": [
              "<matplotlib.axes._subplots.AxesSubplot at 0x7f0685e8aad0>"
            ]
          },
          "metadata": {},
          "execution_count": 31
        },
        {
          "output_type": "display_data",
          "data": {
            "image/png": "[encoded data removed]",
            "text/plain": [
              "<Figure size 432x288 with 1 Axes>"
            ]
          },
          "metadata": {
            "needs_background": "light"
          }
        }
      ]
    },
    {
      "cell_type": "markdown",
      "metadata": {
        "id": "TQx0k6o6J4fo"
      },
      "source": [
        "# Matrix Plots\n",
        "\n",
        "Matrix plots allow you to plot data as color-encoded matrices.\n"
      ]
    },
    {
      "cell_type": "code",
      "metadata": {
        "colab": {
          "base_uri": "https://localhost:8080/",
          "height": 206
        },
        "id": "FkcMsgc2Jxd2",
        "outputId": "aa9bd395-1c94-4815-bc18-a4deee458726"
      },
      "source": [
        "tips.head()"
      ],
      "execution_count": null,
      "outputs": [
        {
          "output_type": "execute_result",
          "data": {
            "text/html": [
              "<div>\n",
              "<style scoped>\n",
              "    .dataframe tbody tr th:only-of-type {\n",
              "        vertical-align: middle;\n",
              "    }\n",
              "\n",
              "    .dataframe tbody tr th {\n",
              "        vertical-align: top;\n",
              "    }\n",
              "\n",
              "    .dataframe thead th {\n",
              "        text-align: right;\n",
              "    }\n",
              "</style>\n",
              "<table border=\"1\" class=\"dataframe\">\n",
              "  <thead>\n",
              "    <tr style=\"text-align: right;\">\n",
              "      <th></th>\n",
              "      <th>total_bill</th>\n",
              "      <th>tip</th>\n",
              "      <th>sex</th>\n",
              "      <th>smoker</th>\n",
              "      <th>day</th>\n",
              "      <th>time</th>\n",
              "      <th>size</th>\n",
              "    </tr>\n",
              "  </thead>\n",
              "  <tbody>\n",
              "    <tr>\n",
              "      <th>0</th>\n",
              "      <td>16.99</td>\n",
              "      <td>1.01</td>\n",
              "      <td>Female</td>\n",
              "      <td>No</td>\n",
              "      <td>Sun</td>\n",
              "      <td>Dinner</td>\n",
              "      <td>2</td>\n",
              "    </tr>\n",
              "    <tr>\n",
              "      <th>1</th>\n",
              "      <td>10.34</td>\n",
              "      <td>1.66</td>\n",
              "      <td>Male</td>\n",
              "      <td>No</td>\n",
              "      <td>Sun</td>\n",
              "      <td>Dinner</td>\n",
              "      <td>3</td>\n",
              "    </tr>\n",
              "    <tr>\n",
              "      <th>2</th>\n",
              "      <td>21.01</td>\n",
              "      <td>3.50</td>\n",
              "      <td>Male</td>\n",
              "      <td>No</td>\n",
              "      <td>Sun</td>\n",
              "      <td>Dinner</td>\n",
              "      <td>3</td>\n",
              "    </tr>\n",
              "    <tr>\n",
              "      <th>3</th>\n",
              "      <td>23.68</td>\n",
              "      <td>3.31</td>\n",
              "      <td>Male</td>\n",
              "      <td>No</td>\n",
              "      <td>Sun</td>\n",
              "      <td>Dinner</td>\n",
              "      <td>2</td>\n",
              "    </tr>\n",
              "    <tr>\n",
              "      <th>4</th>\n",
              "      <td>24.59</td>\n",
              "      <td>3.61</td>\n",
              "      <td>Female</td>\n",
              "      <td>No</td>\n",
              "      <td>Sun</td>\n",
              "      <td>Dinner</td>\n",
              "      <td>4</td>\n",
              "    </tr>\n",
              "  </tbody>\n",
              "</table>\n",
              "</div>"
            ],
            "text/plain": [
              "   total_bill   tip     sex smoker  day    time  size\n",
              "0       16.99  1.01  Female     No  Sun  Dinner     2\n",
              "1       10.34  1.66    Male     No  Sun  Dinner     3\n",
              "2       21.01  3.50    Male     No  Sun  Dinner     3\n",
              "3       23.68  3.31    Male     No  Sun  Dinner     2\n",
              "4       24.59  3.61  Female     No  Sun  Dinner     4"
            ]
          },
          "metadata": {},
          "execution_count": 32
        }
      ]
    },
    {
      "cell_type": "code",
      "metadata": {
        "colab": {
          "base_uri": "https://localhost:8080/",
          "height": 143
        },
        "id": "Qpcd_JgqJ8QF",
        "outputId": "d06d1fbc-3e54-409e-a9ba-968fcb4bf440"
      },
      "source": [
        "# Matrix form for correlation data\n",
        "tips.corr()"
      ],
      "execution_count": null,
      "outputs": [
        {
          "output_type": "execute_result",
          "data": {
            "text/html": [
              "<div>\n",
              "<style scoped>\n",
              "    .dataframe tbody tr th:only-of-type {\n",
              "        vertical-align: middle;\n",
              "    }\n",
              "\n",
              "    .dataframe tbody tr th {\n",
              "        vertical-align: top;\n",
              "    }\n",
              "\n",
              "    .dataframe thead th {\n",
              "        text-align: right;\n",
              "    }\n",
              "</style>\n",
              "<table border=\"1\" class=\"dataframe\">\n",
              "  <thead>\n",
              "    <tr style=\"text-align: right;\">\n",
              "      <th></th>\n",
              "      <th>total_bill</th>\n",
              "      <th>tip</th>\n",
              "      <th>size</th>\n",
              "    </tr>\n",
              "  </thead>\n",
              "  <tbody>\n",
              "    <tr>\n",
              "      <th>total_bill</th>\n",
              "      <td>1.000000</td>\n",
              "      <td>0.675734</td>\n",
              "      <td>0.598315</td>\n",
              "    </tr>\n",
              "    <tr>\n",
              "      <th>tip</th>\n",
              "      <td>0.675734</td>\n",
              "      <td>1.000000</td>\n",
              "      <td>0.489299</td>\n",
              "    </tr>\n",
              "    <tr>\n",
              "      <th>size</th>\n",
              "      <td>0.598315</td>\n",
              "      <td>0.489299</td>\n",
              "      <td>1.000000</td>\n",
              "    </tr>\n",
              "  </tbody>\n",
              "</table>\n",
              "</div>"
            ],
            "text/plain": [
              "            total_bill       tip      size\n",
              "total_bill    1.000000  0.675734  0.598315\n",
              "tip           0.675734  1.000000  0.489299\n",
              "size          0.598315  0.489299  1.000000"
            ]
          },
          "metadata": {},
          "execution_count": 33
        }
      ]
    },
    {
      "cell_type": "code",
      "metadata": {
        "colab": {
          "base_uri": "https://localhost:8080/",
          "height": 287
        },
        "id": "usQ0WrN9KCcu",
        "outputId": "be85ea5c-7684-4655-a493-4641d71004c8"
      },
      "source": [
        "sns.heatmap(tips.corr(),cmap='coolwarm',annot=True)"
      ],
      "execution_count": null,
      "outputs": [
        {
          "output_type": "execute_result",
          "data": {
            "text/plain": [
              "<matplotlib.axes._subplots.AxesSubplot at 0x7f0685dfd390>"
            ]
          },
          "metadata": {},
          "execution_count": 34
        },
        {
          "output_type": "display_data",
          "data": {
            "image/png": "[encoded data removed]",
            "text/plain": [
              "<Figure size 432x288 with 2 Axes>"
            ]
          },
          "metadata": {
            "needs_background": "light"
          }
        }
      ]
    },
    {
      "cell_type": "markdown",
      "metadata": {
        "id": "Iou-g1TFMF9D"
      },
      "source": [
        "#Sample Dataset\n"
      ]
    },
    {
      "cell_type": "code",
      "metadata": {
        "id": "2TnDwcxJMOkb"
      },
      "source": [
        "data = pd.read_csv('novel_corona_virus_dataset.csv')"
      ],
      "execution_count": null,
      "outputs": []
    },
    {
      "cell_type": "code",
      "metadata": {
        "colab": {
          "base_uri": "https://localhost:8080/"
        },
        "id": "EgOL2-T24MqR",
        "outputId": "9c88f716-1e79-4525-81c7-99219c1e3626"
      },
      "source": [
        "data.shape"
      ],
      "execution_count": null,
      "outputs": [
        {
          "output_type": "execute_result",
          "data": {
            "text/plain": [
              "(159030, 9)"
            ]
          },
          "metadata": {},
          "execution_count": 115
        }
      ]
    },
    {
      "cell_type": "code",
      "metadata": {
        "id": "1PCf7km7uTg3"
      },
      "source": [
        ""
      ],
      "execution_count": null,
      "outputs": []
    },
    {
      "cell_type": "code",
      "metadata": {
        "colab": {
          "base_uri": "https://localhost:8080/"
        },
        "id": "hxB0fnuPt2Q5",
        "outputId": "1aacbd15-6743-4eb7-9d13-44c8da36b7e5"
      },
      "source": [
        "data.columns"
      ],
      "execution_count": null,
      "outputs": [
        {
          "output_type": "execute_result",
          "data": {
            "text/plain": [
              "Index(['State', 'Country', 'Lat', 'Long', 'Date', 'Confirmed', 'Deaths',\n",
              "       'Recovered', 'Active'],\n",
              "      dtype='object')"
            ]
          },
          "metadata": {},
          "execution_count": 116
        }
      ]
    },
    {
      "cell_type": "code",
      "metadata": {
        "id": "hU71VDZj4PDm"
      },
      "source": [
        "data.dropna(subset= ['Lat','Long'], inplace=True)"
      ],
      "execution_count": null,
      "outputs": []
    },
    {
      "cell_type": "code",
      "metadata": {
        "colab": {
          "base_uri": "https://localhost:8080/"
        },
        "id": "6Kw0Ip4o4S1c",
        "outputId": "601ef659-cb2d-4c0e-ff19-3af3c527532f"
      },
      "source": [
        "data.shape"
      ],
      "execution_count": null,
      "outputs": [
        {
          "output_type": "execute_result",
          "data": {
            "text/plain": [
              "(157890, 9)"
            ]
          },
          "metadata": {},
          "execution_count": 38
        }
      ]
    },
    {
      "cell_type": "code",
      "metadata": {
        "colab": {
          "base_uri": "https://localhost:8080/",
          "height": 363
        },
        "id": "9MDM93O0cvoq",
        "outputId": "429325d5-7006-4e52-e15a-72bc61fd4968"
      },
      "source": [
        "data.head(10)"
      ],
      "execution_count": null,
      "outputs": [
        {
          "output_type": "execute_result",
          "data": {
            "text/html": [
              "<div>\n",
              "<style scoped>\n",
              "    .dataframe tbody tr th:only-of-type {\n",
              "        vertical-align: middle;\n",
              "    }\n",
              "\n",
              "    .dataframe tbody tr th {\n",
              "        vertical-align: top;\n",
              "    }\n",
              "\n",
              "    .dataframe thead th {\n",
              "        text-align: right;\n",
              "    }\n",
              "</style>\n",
              "<table border=\"1\" class=\"dataframe\">\n",
              "  <thead>\n",
              "    <tr style=\"text-align: right;\">\n",
              "      <th></th>\n",
              "      <th>State</th>\n",
              "      <th>Country</th>\n",
              "      <th>Lat</th>\n",
              "      <th>Long</th>\n",
              "      <th>Date</th>\n",
              "      <th>Confirmed</th>\n",
              "      <th>Deaths</th>\n",
              "      <th>Recovered</th>\n",
              "      <th>Active</th>\n",
              "    </tr>\n",
              "  </thead>\n",
              "  <tbody>\n",
              "    <tr>\n",
              "      <th>0</th>\n",
              "      <td>NaN</td>\n",
              "      <td>Afghanistan</td>\n",
              "      <td>33.93911</td>\n",
              "      <td>67.709953</td>\n",
              "      <td>1/22/20</td>\n",
              "      <td>0</td>\n",
              "      <td>0</td>\n",
              "      <td>0</td>\n",
              "      <td>0</td>\n",
              "    </tr>\n",
              "    <tr>\n",
              "      <th>1</th>\n",
              "      <td>NaN</td>\n",
              "      <td>Albania</td>\n",
              "      <td>41.15330</td>\n",
              "      <td>20.168300</td>\n",
              "      <td>1/22/20</td>\n",
              "      <td>0</td>\n",
              "      <td>0</td>\n",
              "      <td>0</td>\n",
              "      <td>0</td>\n",
              "    </tr>\n",
              "    <tr>\n",
              "      <th>2</th>\n",
              "      <td>NaN</td>\n",
              "      <td>Algeria</td>\n",
              "      <td>28.03390</td>\n",
              "      <td>1.659600</td>\n",
              "      <td>1/22/20</td>\n",
              "      <td>0</td>\n",
              "      <td>0</td>\n",
              "      <td>0</td>\n",
              "      <td>0</td>\n",
              "    </tr>\n",
              "    <tr>\n",
              "      <th>3</th>\n",
              "      <td>NaN</td>\n",
              "      <td>Andorra</td>\n",
              "      <td>42.50630</td>\n",
              "      <td>1.521800</td>\n",
              "      <td>1/22/20</td>\n",
              "      <td>0</td>\n",
              "      <td>0</td>\n",
              "      <td>0</td>\n",
              "      <td>0</td>\n",
              "    </tr>\n",
              "    <tr>\n",
              "      <th>4</th>\n",
              "      <td>NaN</td>\n",
              "      <td>Angola</td>\n",
              "      <td>-11.20270</td>\n",
              "      <td>17.873900</td>\n",
              "      <td>1/22/20</td>\n",
              "      <td>0</td>\n",
              "      <td>0</td>\n",
              "      <td>0</td>\n",
              "      <td>0</td>\n",
              "    </tr>\n",
              "    <tr>\n",
              "      <th>5</th>\n",
              "      <td>NaN</td>\n",
              "      <td>Antigua and Barbuda</td>\n",
              "      <td>17.06080</td>\n",
              "      <td>-61.796400</td>\n",
              "      <td>1/22/20</td>\n",
              "      <td>0</td>\n",
              "      <td>0</td>\n",
              "      <td>0</td>\n",
              "      <td>0</td>\n",
              "    </tr>\n",
              "    <tr>\n",
              "      <th>6</th>\n",
              "      <td>NaN</td>\n",
              "      <td>Argentina</td>\n",
              "      <td>-38.41610</td>\n",
              "      <td>-63.616700</td>\n",
              "      <td>1/22/20</td>\n",
              "      <td>0</td>\n",
              "      <td>0</td>\n",
              "      <td>0</td>\n",
              "      <td>0</td>\n",
              "    </tr>\n",
              "    <tr>\n",
              "      <th>7</th>\n",
              "      <td>NaN</td>\n",
              "      <td>Armenia</td>\n",
              "      <td>40.06910</td>\n",
              "      <td>45.038200</td>\n",
              "      <td>1/22/20</td>\n",
              "      <td>0</td>\n",
              "      <td>0</td>\n",
              "      <td>0</td>\n",
              "      <td>0</td>\n",
              "    </tr>\n",
              "    <tr>\n",
              "      <th>8</th>\n",
              "      <td>Australian Capital Territory</td>\n",
              "      <td>Australia</td>\n",
              "      <td>-35.47350</td>\n",
              "      <td>149.012400</td>\n",
              "      <td>1/22/20</td>\n",
              "      <td>0</td>\n",
              "      <td>0</td>\n",
              "      <td>0</td>\n",
              "      <td>0</td>\n",
              "    </tr>\n",
              "    <tr>\n",
              "      <th>9</th>\n",
              "      <td>New South Wales</td>\n",
              "      <td>Australia</td>\n",
              "      <td>-33.86880</td>\n",
              "      <td>151.209300</td>\n",
              "      <td>1/22/20</td>\n",
              "      <td>0</td>\n",
              "      <td>0</td>\n",
              "      <td>0</td>\n",
              "      <td>0</td>\n",
              "    </tr>\n",
              "  </tbody>\n",
              "</table>\n",
              "</div>"
            ],
            "text/plain": [
              "                          State              Country  ...  Recovered  Active\n",
              "0                           NaN          Afghanistan  ...          0       0\n",
              "1                           NaN              Albania  ...          0       0\n",
              "2                           NaN              Algeria  ...          0       0\n",
              "3                           NaN              Andorra  ...          0       0\n",
              "4                           NaN               Angola  ...          0       0\n",
              "5                           NaN  Antigua and Barbuda  ...          0       0\n",
              "6                           NaN            Argentina  ...          0       0\n",
              "7                           NaN              Armenia  ...          0       0\n",
              "8  Australian Capital Territory            Australia  ...          0       0\n",
              "9               New South Wales            Australia  ...          0       0\n",
              "\n",
              "[10 rows x 9 columns]"
            ]
          },
          "metadata": {},
          "execution_count": 118
        }
      ]
    },
    {
      "cell_type": "code",
      "metadata": {
        "colab": {
          "base_uri": "https://localhost:8080/"
        },
        "id": "491fnKBQc-He",
        "outputId": "e0316ad1-2e0e-479f-bfa1-45763c696c66"
      },
      "source": [
        "data.columns"
      ],
      "execution_count": null,
      "outputs": [
        {
          "output_type": "execute_result",
          "data": {
            "text/plain": [
              "Index(['State', 'Country', 'Lat', 'Long', 'Date', 'Confirmed', 'Deaths',\n",
              "       'Recovered', 'Active'],\n",
              "      dtype='object')"
            ]
          },
          "metadata": {},
          "execution_count": 41
        }
      ]
    },
    {
      "cell_type": "code",
      "metadata": {
        "colab": {
          "base_uri": "https://localhost:8080/"
        },
        "id": "GrdAKiw2eCNM",
        "outputId": "b0ad2aa2-fa20-4bb1-fa01-024eb145d4e3"
      },
      "source": [
        "data['Country'].unique()"
      ],
      "execution_count": null,
      "outputs": [
        {
          "output_type": "execute_result",
          "data": {
            "text/plain": [
              "array(['Afghanistan', 'Albania', 'Algeria', 'Andorra', 'Angola',\n",
              "       'Antigua and Barbuda', 'Argentina', 'Armenia', 'Australia',\n",
              "       'Austria', 'Azerbaijan', 'Bahamas', 'Bahrain', 'Bangladesh',\n",
              "       'Barbados', 'Belarus', 'Belgium', 'Belize', 'Benin', 'Bhutan',\n",
              "       'Bolivia', 'Bosnia and Herzegovina', 'Botswana', 'Brazil',\n",
              "       'Brunei', 'Bulgaria', 'Burkina Faso', 'Burma', 'Burundi',\n",
              "       'Cabo Verde', 'Cambodia', 'Cameroon', 'Canada',\n",
              "       'Central African Republic', 'Chad', 'Chile', 'China', 'Colombia',\n",
              "       'Comoros', 'Congo (Brazzaville)', 'Congo (Kinshasa)', 'Costa Rica',\n",
              "       \"Cote d'Ivoire\", 'Croatia', 'Cuba', 'Cyprus', 'Czechia', 'Denmark',\n",
              "       'Diamond Princess', 'Djibouti', 'Dominica', 'Dominican Republic',\n",
              "       'Ecuador', 'Egypt', 'El Salvador', 'Equatorial Guinea', 'Eritrea',\n",
              "       'Estonia', 'Eswatini', 'Ethiopia', 'Fiji', 'Finland', 'France',\n",
              "       'Gabon', 'Gambia', 'Georgia', 'Germany', 'Ghana', 'Greece',\n",
              "       'Grenada', 'Guatemala', 'Guinea', 'Guinea-Bissau', 'Guyana',\n",
              "       'Haiti', 'Holy See', 'Honduras', 'Hungary', 'Iceland', 'India',\n",
              "       'Indonesia', 'Iran', 'Iraq', 'Ireland', 'Israel', 'Italy',\n",
              "       'Jamaica', 'Japan', 'Jordan', 'Kazakhstan', 'Kenya', 'Kiribati',\n",
              "       'South Korea', 'Kosovo', 'Kuwait', 'Kyrgyzstan', 'Laos', 'Latvia',\n",
              "       'Lebanon', 'Lesotho', 'Liberia', 'Libya', 'Liechtenstein',\n",
              "       'Lithuania', 'Luxembourg', 'MS Zaandam', 'Madagascar', 'Malawi',\n",
              "       'Malaysia', 'Maldives', 'Mali', 'Malta', 'Marshall Islands',\n",
              "       'Mauritania', 'Mauritius', 'Mexico', 'Micronesia', 'Moldova',\n",
              "       'Monaco', 'Mongolia', 'Montenegro', 'Morocco', 'Mozambique',\n",
              "       'Namibia', 'Nepal', 'Netherlands', 'New Zealand', 'Nicaragua',\n",
              "       'Niger', 'Nigeria', 'North Macedonia', 'Norway', 'Oman',\n",
              "       'Pakistan', 'Palau', 'Panama', 'Papua New Guinea', 'Paraguay',\n",
              "       'Peru', 'Philippines', 'Poland', 'Portugal', 'Qatar', 'Romania',\n",
              "       'Russia', 'Rwanda', 'Saint Kitts and Nevis', 'Saint Lucia',\n",
              "       'Saint Vincent and the Grenadines', 'Samoa', 'San Marino',\n",
              "       'Sao Tome and Principe', 'Saudi Arabia', 'Senegal', 'Serbia',\n",
              "       'Seychelles', 'Sierra Leone', 'Singapore', 'Slovakia', 'Slovenia',\n",
              "       'Solomon Islands', 'Somalia', 'South Africa', 'South Sudan',\n",
              "       'Spain', 'Sri Lanka', 'Sudan', 'Summer Olympics 2020', 'Suriname',\n",
              "       'Sweden', 'Switzerland', 'Syria', 'Taiwan', 'Tajikistan',\n",
              "       'Tanzania', 'Thailand', 'Timor-Leste', 'Togo',\n",
              "       'Trinidad and Tobago', 'Tunisia', 'Turkey', 'US', 'Uganda',\n",
              "       'Ukraine', 'United Arab Emirates', 'United Kingdom', 'Uruguay',\n",
              "       'Uzbekistan', 'Vanuatu', 'Venezuela', 'Vietnam',\n",
              "       'West Bank and Gaza', 'Yemen', 'Zambia', 'Zimbabwe'], dtype=object)"
            ]
          },
          "metadata": {},
          "execution_count": 40
        }
      ]
    },
    {
      "cell_type": "code",
      "metadata": {
        "id": "tWJoEueEk9hx"
      },
      "source": [
        "data['year']=pd.DatetimeIndex(data['Date']).year\n",
        "data['month']=pd.DatetimeIndex(data['Date']).month\n",
        "# data['month'] = data['month'].apply(lambda x: calendar.month_abbr[x])"
      ],
      "execution_count": null,
      "outputs": []
    },
    {
      "cell_type": "code",
      "metadata": {
        "colab": {
          "base_uri": "https://localhost:8080/",
          "height": 363
        },
        "id": "d2fD-_25lW3g",
        "outputId": "d8d642b6-94d3-47e9-f875-acd3d9951354"
      },
      "source": [
        "data.head(10)"
      ],
      "execution_count": null,
      "outputs": [
        {
          "output_type": "execute_result",
          "data": {
            "text/html": [
              "<div>\n",
              "<style scoped>\n",
              "    .dataframe tbody tr th:only-of-type {\n",
              "        vertical-align: middle;\n",
              "    }\n",
              "\n",
              "    .dataframe tbody tr th {\n",
              "        vertical-align: top;\n",
              "    }\n",
              "\n",
              "    .dataframe thead th {\n",
              "        text-align: right;\n",
              "    }\n",
              "</style>\n",
              "<table border=\"1\" class=\"dataframe\">\n",
              "  <thead>\n",
              "    <tr style=\"text-align: right;\">\n",
              "      <th></th>\n",
              "      <th>State</th>\n",
              "      <th>Country</th>\n",
              "      <th>Lat</th>\n",
              "      <th>Long</th>\n",
              "      <th>Date</th>\n",
              "      <th>Confirmed</th>\n",
              "      <th>Deaths</th>\n",
              "      <th>Recovered</th>\n",
              "      <th>Active</th>\n",
              "      <th>year</th>\n",
              "      <th>month</th>\n",
              "    </tr>\n",
              "  </thead>\n",
              "  <tbody>\n",
              "    <tr>\n",
              "      <th>0</th>\n",
              "      <td>NaN</td>\n",
              "      <td>Afghanistan</td>\n",
              "      <td>33.93911</td>\n",
              "      <td>67.709953</td>\n",
              "      <td>1/22/20</td>\n",
              "      <td>0</td>\n",
              "      <td>0</td>\n",
              "      <td>0</td>\n",
              "      <td>0</td>\n",
              "      <td>2020</td>\n",
              "      <td>1</td>\n",
              "    </tr>\n",
              "    <tr>\n",
              "      <th>1</th>\n",
              "      <td>NaN</td>\n",
              "      <td>Albania</td>\n",
              "      <td>41.15330</td>\n",
              "      <td>20.168300</td>\n",
              "      <td>1/22/20</td>\n",
              "      <td>0</td>\n",
              "      <td>0</td>\n",
              "      <td>0</td>\n",
              "      <td>0</td>\n",
              "      <td>2020</td>\n",
              "      <td>1</td>\n",
              "    </tr>\n",
              "    <tr>\n",
              "      <th>2</th>\n",
              "      <td>NaN</td>\n",
              "      <td>Algeria</td>\n",
              "      <td>28.03390</td>\n",
              "      <td>1.659600</td>\n",
              "      <td>1/22/20</td>\n",
              "      <td>0</td>\n",
              "      <td>0</td>\n",
              "      <td>0</td>\n",
              "      <td>0</td>\n",
              "      <td>2020</td>\n",
              "      <td>1</td>\n",
              "    </tr>\n",
              "    <tr>\n",
              "      <th>3</th>\n",
              "      <td>NaN</td>\n",
              "      <td>Andorra</td>\n",
              "      <td>42.50630</td>\n",
              "      <td>1.521800</td>\n",
              "      <td>1/22/20</td>\n",
              "      <td>0</td>\n",
              "      <td>0</td>\n",
              "      <td>0</td>\n",
              "      <td>0</td>\n",
              "      <td>2020</td>\n",
              "      <td>1</td>\n",
              "    </tr>\n",
              "    <tr>\n",
              "      <th>4</th>\n",
              "      <td>NaN</td>\n",
              "      <td>Angola</td>\n",
              "      <td>-11.20270</td>\n",
              "      <td>17.873900</td>\n",
              "      <td>1/22/20</td>\n",
              "      <td>0</td>\n",
              "      <td>0</td>\n",
              "      <td>0</td>\n",
              "      <td>0</td>\n",
              "      <td>2020</td>\n",
              "      <td>1</td>\n",
              "    </tr>\n",
              "    <tr>\n",
              "      <th>5</th>\n",
              "      <td>NaN</td>\n",
              "      <td>Antigua and Barbuda</td>\n",
              "      <td>17.06080</td>\n",
              "      <td>-61.796400</td>\n",
              "      <td>1/22/20</td>\n",
              "      <td>0</td>\n",
              "      <td>0</td>\n",
              "      <td>0</td>\n",
              "      <td>0</td>\n",
              "      <td>2020</td>\n",
              "      <td>1</td>\n",
              "    </tr>\n",
              "    <tr>\n",
              "      <th>6</th>\n",
              "      <td>NaN</td>\n",
              "      <td>Argentina</td>\n",
              "      <td>-38.41610</td>\n",
              "      <td>-63.616700</td>\n",
              "      <td>1/22/20</td>\n",
              "      <td>0</td>\n",
              "      <td>0</td>\n",
              "      <td>0</td>\n",
              "      <td>0</td>\n",
              "      <td>2020</td>\n",
              "      <td>1</td>\n",
              "    </tr>\n",
              "    <tr>\n",
              "      <th>7</th>\n",
              "      <td>NaN</td>\n",
              "      <td>Armenia</td>\n",
              "      <td>40.06910</td>\n",
              "      <td>45.038200</td>\n",
              "      <td>1/22/20</td>\n",
              "      <td>0</td>\n",
              "      <td>0</td>\n",
              "      <td>0</td>\n",
              "      <td>0</td>\n",
              "      <td>2020</td>\n",
              "      <td>1</td>\n",
              "    </tr>\n",
              "    <tr>\n",
              "      <th>8</th>\n",
              "      <td>Australian Capital Territory</td>\n",
              "      <td>Australia</td>\n",
              "      <td>-35.47350</td>\n",
              "      <td>149.012400</td>\n",
              "      <td>1/22/20</td>\n",
              "      <td>0</td>\n",
              "      <td>0</td>\n",
              "      <td>0</td>\n",
              "      <td>0</td>\n",
              "      <td>2020</td>\n",
              "      <td>1</td>\n",
              "    </tr>\n",
              "    <tr>\n",
              "      <th>9</th>\n",
              "      <td>New South Wales</td>\n",
              "      <td>Australia</td>\n",
              "      <td>-33.86880</td>\n",
              "      <td>151.209300</td>\n",
              "      <td>1/22/20</td>\n",
              "      <td>0</td>\n",
              "      <td>0</td>\n",
              "      <td>0</td>\n",
              "      <td>0</td>\n",
              "      <td>2020</td>\n",
              "      <td>1</td>\n",
              "    </tr>\n",
              "  </tbody>\n",
              "</table>\n",
              "</div>"
            ],
            "text/plain": [
              "                          State              Country  ...  year  month\n",
              "0                           NaN          Afghanistan  ...  2020      1\n",
              "1                           NaN              Albania  ...  2020      1\n",
              "2                           NaN              Algeria  ...  2020      1\n",
              "3                           NaN              Andorra  ...  2020      1\n",
              "4                           NaN               Angola  ...  2020      1\n",
              "5                           NaN  Antigua and Barbuda  ...  2020      1\n",
              "6                           NaN            Argentina  ...  2020      1\n",
              "7                           NaN              Armenia  ...  2020      1\n",
              "8  Australian Capital Territory            Australia  ...  2020      1\n",
              "9               New South Wales            Australia  ...  2020      1\n",
              "\n",
              "[10 rows x 11 columns]"
            ]
          },
          "metadata": {},
          "execution_count": 120
        }
      ]
    },
    {
      "cell_type": "code",
      "metadata": {
        "colab": {
          "base_uri": "https://localhost:8080/",
          "height": 645
        },
        "id": "MqXxgOsnRAua",
        "outputId": "20f856ff-465d-437b-f4ae-294610f7cd8a"
      },
      "source": [
        "CountryWorld=data.groupby('Country')[['Confirmed','Deaths','Recovered']].sum()\n",
        "CountryWorld=CountryWorld.reset_index()\n",
        "CountryWorld.sort_values(by='Deaths')\n",
        "MostAffectedCountries=CountryWorld[CountryWorld['Deaths']>10000000]\n",
        "MostAffectedCountries\n"
      ],
      "execution_count": null,
      "outputs": [
        {
          "output_type": "execute_result",
          "data": {
            "text/html": [
              "<div>\n",
              "<style scoped>\n",
              "    .dataframe tbody tr th:only-of-type {\n",
              "        vertical-align: middle;\n",
              "    }\n",
              "\n",
              "    .dataframe tbody tr th {\n",
              "        vertical-align: top;\n",
              "    }\n",
              "\n",
              "    .dataframe thead th {\n",
              "        text-align: right;\n",
              "    }\n",
              "</style>\n",
              "<table border=\"1\" class=\"dataframe\">\n",
              "  <thead>\n",
              "    <tr style=\"text-align: right;\">\n",
              "      <th></th>\n",
              "      <th>Country</th>\n",
              "      <th>Confirmed</th>\n",
              "      <th>Deaths</th>\n",
              "      <th>Recovered</th>\n",
              "    </tr>\n",
              "  </thead>\n",
              "  <tbody>\n",
              "    <tr>\n",
              "      <th>6</th>\n",
              "      <td>Argentina</td>\n",
              "      <td>848893139</td>\n",
              "      <td>19385586</td>\n",
              "      <td>711610324</td>\n",
              "    </tr>\n",
              "    <tr>\n",
              "      <th>23</th>\n",
              "      <td>Brazil</td>\n",
              "      <td>4074585309</td>\n",
              "      <td>112345363</td>\n",
              "      <td>3412350387</td>\n",
              "    </tr>\n",
              "    <tr>\n",
              "      <th>37</th>\n",
              "      <td>Colombia</td>\n",
              "      <td>841755652</td>\n",
              "      <td>22229892</td>\n",
              "      <td>735029503</td>\n",
              "    </tr>\n",
              "    <tr>\n",
              "      <th>62</th>\n",
              "      <td>France</td>\n",
              "      <td>1307416258</td>\n",
              "      <td>31181758</td>\n",
              "      <td>96506536</td>\n",
              "    </tr>\n",
              "    <tr>\n",
              "      <th>66</th>\n",
              "      <td>Germany</td>\n",
              "      <td>808847023</td>\n",
              "      <td>20267226</td>\n",
              "      <td>695248246</td>\n",
              "    </tr>\n",
              "    <tr>\n",
              "      <th>79</th>\n",
              "      <td>India</td>\n",
              "      <td>5547994408</td>\n",
              "      <td>74675010</td>\n",
              "      <td>4859387857</td>\n",
              "    </tr>\n",
              "    <tr>\n",
              "      <th>80</th>\n",
              "      <td>Indonesia</td>\n",
              "      <td>460812589</td>\n",
              "      <td>13128067</td>\n",
              "      <td>363942501</td>\n",
              "    </tr>\n",
              "    <tr>\n",
              "      <th>81</th>\n",
              "      <td>Iran</td>\n",
              "      <td>660728506</td>\n",
              "      <td>22291312</td>\n",
              "      <td>522325591</td>\n",
              "    </tr>\n",
              "    <tr>\n",
              "      <th>85</th>\n",
              "      <td>Italy</td>\n",
              "      <td>962544473</td>\n",
              "      <td>35693349</td>\n",
              "      <td>759237934</td>\n",
              "    </tr>\n",
              "    <tr>\n",
              "      <th>114</th>\n",
              "      <td>Mexico</td>\n",
              "      <td>659908825</td>\n",
              "      <td>60867638</td>\n",
              "      <td>498203576</td>\n",
              "    </tr>\n",
              "    <tr>\n",
              "      <th>137</th>\n",
              "      <td>Peru</td>\n",
              "      <td>517668841</td>\n",
              "      <td>49986020</td>\n",
              "      <td>458397918</td>\n",
              "    </tr>\n",
              "    <tr>\n",
              "      <th>139</th>\n",
              "      <td>Poland</td>\n",
              "      <td>599559855</td>\n",
              "      <td>14646069</td>\n",
              "      <td>487412435</td>\n",
              "    </tr>\n",
              "    <tr>\n",
              "      <th>143</th>\n",
              "      <td>Russia</td>\n",
              "      <td>1359854059</td>\n",
              "      <td>28950700</td>\n",
              "      <td>1128064202</td>\n",
              "    </tr>\n",
              "    <tr>\n",
              "      <th>161</th>\n",
              "      <td>South Africa</td>\n",
              "      <td>505384830</td>\n",
              "      <td>15135132</td>\n",
              "      <td>433216733</td>\n",
              "    </tr>\n",
              "    <tr>\n",
              "      <th>164</th>\n",
              "      <td>Spain</td>\n",
              "      <td>955486522</td>\n",
              "      <td>25221424</td>\n",
              "      <td>71183831</td>\n",
              "    </tr>\n",
              "    <tr>\n",
              "      <th>180</th>\n",
              "      <td>Turkey</td>\n",
              "      <td>1037910675</td>\n",
              "      <td>10643524</td>\n",
              "      <td>919259007</td>\n",
              "    </tr>\n",
              "    <tr>\n",
              "      <th>181</th>\n",
              "      <td>US</td>\n",
              "      <td>8641717814</td>\n",
              "      <td>169605497</td>\n",
              "      <td>496971828</td>\n",
              "    </tr>\n",
              "    <tr>\n",
              "      <th>183</th>\n",
              "      <td>Ukraine</td>\n",
              "      <td>486239099</td>\n",
              "      <td>10383106</td>\n",
              "      <td>382658549</td>\n",
              "    </tr>\n",
              "    <tr>\n",
              "      <th>185</th>\n",
              "      <td>United Kingdom</td>\n",
              "      <td>1175889920</td>\n",
              "      <td>38727377</td>\n",
              "      <td>3447801</td>\n",
              "    </tr>\n",
              "  </tbody>\n",
              "</table>\n",
              "</div>"
            ],
            "text/plain": [
              "            Country   Confirmed     Deaths   Recovered\n",
              "6         Argentina   848893139   19385586   711610324\n",
              "23           Brazil  4074585309  112345363  3412350387\n",
              "37         Colombia   841755652   22229892   735029503\n",
              "62           France  1307416258   31181758    96506536\n",
              "66          Germany   808847023   20267226   695248246\n",
              "79            India  5547994408   74675010  4859387857\n",
              "80        Indonesia   460812589   13128067   363942501\n",
              "81             Iran   660728506   22291312   522325591\n",
              "85            Italy   962544473   35693349   759237934\n",
              "114          Mexico   659908825   60867638   498203576\n",
              "137            Peru   517668841   49986020   458397918\n",
              "139          Poland   599559855   14646069   487412435\n",
              "143          Russia  1359854059   28950700  1128064202\n",
              "161    South Africa   505384830   15135132   433216733\n",
              "164           Spain   955486522   25221424    71183831\n",
              "180          Turkey  1037910675   10643524   919259007\n",
              "181              US  8641717814  169605497   496971828\n",
              "183         Ukraine   486239099   10383106   382658549\n",
              "185  United Kingdom  1175889920   38727377     3447801"
            ]
          },
          "metadata": {},
          "execution_count": 146
        }
      ]
    },
    {
      "cell_type": "code",
      "metadata": {
        "id": "L8Jp-YuPR8UE",
        "colab": {
          "base_uri": "https://localhost:8080/",
          "height": 450
        },
        "outputId": "a9cf26a1-8c13-4508-d279-90b6457cbe23"
      },
      "source": [
        "#Create combo chart\n",
        "fig, ax1 = plt.subplots(figsize=(20,6))\n",
        "color = 'tab:green'\n",
        "#bar plot creation\n",
        "ax1.set_title('Most Affected Countries by the pandemic', fontsize=16)\n",
        "ax1.set_xlabel('Country', fontsize=16)\n",
        "ax1.set_ylabel('Deaths Registered', fontsize=16)\n",
        "ax1 = sns.barplot(x='Country', y='Deaths', data = MostAffectedCountries, palette='summer')\n",
        "ax1.tick_params(axis='y')\n",
        "#specify we want to share the same x-axis\n",
        "ax2 = ax1.twinx()\n",
        "color = 'tab:red'\n",
        "#line plot creation\n",
        "ax2.set_ylabel('Recovered', fontsize=16)\n",
        "ax2 = sns.lineplot(x='Country', y='Recovered', data = MostAffectedCountries, sort=False, color=color)\n",
        "ax2.tick_params(axis='y', color=color)\n",
        "#show plot\n",
        "ax1.set_xticklabels(ax1.get_xticklabels(),rotation = 30)\n",
        "plt.show()"
      ],
      "execution_count": null,
      "outputs": [
        {
          "output_type": "display_data",
          "data": {
            "image/png": "[encoded data removed]",
            "text/plain": [
              "<Figure size 1440x432 with 2 Axes>"
            ]
          },
          "metadata": {
            "needs_background": "light"
          }
        }
      ]
    },
    {
      "cell_type": "code",
      "metadata": {
        "id": "l1Mlvr_dnQBL"
      },
      "source": [
        "SouthAfrica_data = data[data['Country'] =='South Africa']"
      ],
      "execution_count": null,
      "outputs": []
    },
    {
      "cell_type": "code",
      "metadata": {
        "colab": {
          "base_uri": "https://localhost:8080/",
          "height": 332
        },
        "id": "dQO3qlxbnSDo",
        "outputId": "95a0d867-1660-4a65-f5e4-732a83a9b228"
      },
      "source": [
        "SouthAfrica_data21= SouthAfrica_data[SouthAfrica_data['year'] == 2021]\n",
        "SouthAfrica_data21.groupby('month').sum()[['Confirmed','Deaths']]"
      ],
      "execution_count": null,
      "outputs": [
        {
          "output_type": "execute_result",
          "data": {
            "text/html": [
              "<div>\n",
              "<style scoped>\n",
              "    .dataframe tbody tr th:only-of-type {\n",
              "        vertical-align: middle;\n",
              "    }\n",
              "\n",
              "    .dataframe tbody tr th {\n",
              "        vertical-align: top;\n",
              "    }\n",
              "\n",
              "    .dataframe thead th {\n",
              "        text-align: right;\n",
              "    }\n",
              "</style>\n",
              "<table border=\"1\" class=\"dataframe\">\n",
              "  <thead>\n",
              "    <tr style=\"text-align: right;\">\n",
              "      <th></th>\n",
              "      <th>Confirmed</th>\n",
              "      <th>Deaths</th>\n",
              "    </tr>\n",
              "    <tr>\n",
              "      <th>month</th>\n",
              "      <th></th>\n",
              "      <th></th>\n",
              "    </tr>\n",
              "  </thead>\n",
              "  <tbody>\n",
              "    <tr>\n",
              "      <th>1</th>\n",
              "      <td>40240702</td>\n",
              "      <td>1135024</td>\n",
              "    </tr>\n",
              "    <tr>\n",
              "      <th>2</th>\n",
              "      <td>41711243</td>\n",
              "      <td>1337841</td>\n",
              "    </tr>\n",
              "    <tr>\n",
              "      <th>3</th>\n",
              "      <td>47472251</td>\n",
              "      <td>1598845</td>\n",
              "    </tr>\n",
              "    <tr>\n",
              "      <th>4</th>\n",
              "      <td>46922791</td>\n",
              "      <td>1608164</td>\n",
              "    </tr>\n",
              "    <tr>\n",
              "      <th>5</th>\n",
              "      <td>50121593</td>\n",
              "      <td>1714880</td>\n",
              "    </tr>\n",
              "    <tr>\n",
              "      <th>6</th>\n",
              "      <td>53680896</td>\n",
              "      <td>1747885</td>\n",
              "    </tr>\n",
              "    <tr>\n",
              "      <th>7</th>\n",
              "      <td>69708562</td>\n",
              "      <td>2056781</td>\n",
              "    </tr>\n",
              "    <tr>\n",
              "      <th>8</th>\n",
              "      <td>32730646</td>\n",
              "      <td>967561</td>\n",
              "    </tr>\n",
              "  </tbody>\n",
              "</table>\n",
              "</div>"
            ],
            "text/plain": [
              "       Confirmed   Deaths\n",
              "month                    \n",
              "1       40240702  1135024\n",
              "2       41711243  1337841\n",
              "3       47472251  1598845\n",
              "4       46922791  1608164\n",
              "5       50121593  1714880\n",
              "6       53680896  1747885\n",
              "7       69708562  2056781\n",
              "8       32730646   967561"
            ]
          },
          "metadata": {},
          "execution_count": 83
        }
      ]
    },
    {
      "cell_type": "code",
      "metadata": {
        "id": "Ro7KC8FIaT6f"
      },
      "source": [
        "SA_21cases =SouthAfrica_data21.groupby('month').sum()[['Confirmed']]\n",
        "SA_21cases=SA_21cases.reset_index()\n",
        "y=SA_21cases['Confirmed']"
      ],
      "execution_count": null,
      "outputs": []
    },
    {
      "cell_type": "code",
      "metadata": {
        "colab": {
          "base_uri": "https://localhost:8080/",
          "height": 300
        },
        "id": "Hv4C4Dxua7wS",
        "outputId": "60efd936-29b6-4dc4-9412-0410838f383f"
      },
      "source": [
        "SA_21cases"
      ],
      "execution_count": null,
      "outputs": [
        {
          "output_type": "execute_result",
          "data": {
            "text/html": [
              "<div>\n",
              "<style scoped>\n",
              "    .dataframe tbody tr th:only-of-type {\n",
              "        vertical-align: middle;\n",
              "    }\n",
              "\n",
              "    .dataframe tbody tr th {\n",
              "        vertical-align: top;\n",
              "    }\n",
              "\n",
              "    .dataframe thead th {\n",
              "        text-align: right;\n",
              "    }\n",
              "</style>\n",
              "<table border=\"1\" class=\"dataframe\">\n",
              "  <thead>\n",
              "    <tr style=\"text-align: right;\">\n",
              "      <th></th>\n",
              "      <th>month</th>\n",
              "      <th>Confirmed</th>\n",
              "    </tr>\n",
              "  </thead>\n",
              "  <tbody>\n",
              "    <tr>\n",
              "      <th>0</th>\n",
              "      <td>1</td>\n",
              "      <td>40240702</td>\n",
              "    </tr>\n",
              "    <tr>\n",
              "      <th>1</th>\n",
              "      <td>2</td>\n",
              "      <td>41711243</td>\n",
              "    </tr>\n",
              "    <tr>\n",
              "      <th>2</th>\n",
              "      <td>3</td>\n",
              "      <td>47472251</td>\n",
              "    </tr>\n",
              "    <tr>\n",
              "      <th>3</th>\n",
              "      <td>4</td>\n",
              "      <td>46922791</td>\n",
              "    </tr>\n",
              "    <tr>\n",
              "      <th>4</th>\n",
              "      <td>5</td>\n",
              "      <td>50121593</td>\n",
              "    </tr>\n",
              "    <tr>\n",
              "      <th>5</th>\n",
              "      <td>6</td>\n",
              "      <td>53680896</td>\n",
              "    </tr>\n",
              "    <tr>\n",
              "      <th>6</th>\n",
              "      <td>7</td>\n",
              "      <td>69708562</td>\n",
              "    </tr>\n",
              "    <tr>\n",
              "      <th>7</th>\n",
              "      <td>8</td>\n",
              "      <td>32730646</td>\n",
              "    </tr>\n",
              "  </tbody>\n",
              "</table>\n",
              "</div>"
            ],
            "text/plain": [
              "   month  Confirmed\n",
              "0      1   40240702\n",
              "1      2   41711243\n",
              "2      3   47472251\n",
              "3      4   46922791\n",
              "4      5   50121593\n",
              "5      6   53680896\n",
              "6      7   69708562\n",
              "7      8   32730646"
            ]
          },
          "metadata": {},
          "execution_count": 92
        }
      ]
    },
    {
      "cell_type": "code",
      "metadata": {
        "colab": {
          "base_uri": "https://localhost:8080/",
          "height": 264
        },
        "id": "23GTpwNlZiSx",
        "outputId": "a9a7b58b-eeb9-4f6d-abc2-9b2ecf764f70"
      },
      "source": [
        "labels= SA_21cases['month']\n",
        "explode = (0.1, 0.1, 0.1,0.1,0,0,0,0)  # only \"explode\" the 2nd slice \n",
        "fig1, ax1 = plt.subplots()\n",
        "ax1.pie(y, explode=explode,labels=labels, autopct='%1.1f%%')\n",
        "ax1.axis('equal')  # Equal aspect ratio ensures that pie is drawn as a circle.\n",
        "ax1.set_title('Number of Cases recorded in South Africa in 2021')\n",
        "plt.show()\n"
      ],
      "execution_count": null,
      "outputs": [
        {
          "output_type": "display_data",
          "data": {
            "image/png": "[encoded data removed]",
            "text/plain": [
              "<Figure size 432x288 with 1 Axes>"
            ]
          },
          "metadata": {}
        }
      ]
    },
    {
      "cell_type": "code",
      "metadata": {
        "id": "DmQS9tZWeSpJ"
      },
      "source": [
        "SA = SouthAfrica_data[['year','month','Confirmed','Deaths','Recovered']]"
      ],
      "execution_count": null,
      "outputs": []
    },
    {
      "cell_type": "code",
      "metadata": {
        "id": "7mSD0kRTet92"
      },
      "source": [
        "pvSA=SA.pivot_table(values='Confirmed',index='month',columns='year')"
      ],
      "execution_count": null,
      "outputs": []
    },
    {
      "cell_type": "code",
      "metadata": {
        "colab": {
          "base_uri": "https://localhost:8080/",
          "height": 457
        },
        "id": "8P3c5zhqoOfU",
        "outputId": "a96e5633-b5d9-4155-d8c9-76cc8588b32a"
      },
      "source": [
        "pvSA"
      ],
      "execution_count": null,
      "outputs": [
        {
          "output_type": "execute_result",
          "data": {
            "text/html": [
              "<div>\n",
              "<style scoped>\n",
              "    .dataframe tbody tr th:only-of-type {\n",
              "        vertical-align: middle;\n",
              "    }\n",
              "\n",
              "    .dataframe tbody tr th {\n",
              "        vertical-align: top;\n",
              "    }\n",
              "\n",
              "    .dataframe thead th {\n",
              "        text-align: right;\n",
              "    }\n",
              "</style>\n",
              "<table border=\"1\" class=\"dataframe\">\n",
              "  <thead>\n",
              "    <tr style=\"text-align: right;\">\n",
              "      <th>year</th>\n",
              "      <th>2020</th>\n",
              "      <th>2021</th>\n",
              "    </tr>\n",
              "    <tr>\n",
              "      <th>month</th>\n",
              "      <th></th>\n",
              "      <th></th>\n",
              "    </tr>\n",
              "  </thead>\n",
              "  <tbody>\n",
              "    <tr>\n",
              "      <th>1</th>\n",
              "      <td>0.000000</td>\n",
              "      <td>1.298087e+06</td>\n",
              "    </tr>\n",
              "    <tr>\n",
              "      <th>2</th>\n",
              "      <td>0.000000</td>\n",
              "      <td>1.489687e+06</td>\n",
              "    </tr>\n",
              "    <tr>\n",
              "      <th>3</th>\n",
              "      <td>328.161290</td>\n",
              "      <td>1.531363e+06</td>\n",
              "    </tr>\n",
              "    <tr>\n",
              "      <th>4</th>\n",
              "      <td>2934.800000</td>\n",
              "      <td>1.564093e+06</td>\n",
              "    </tr>\n",
              "    <tr>\n",
              "      <th>5</th>\n",
              "      <td>16044.322581</td>\n",
              "      <td>1.616826e+06</td>\n",
              "    </tr>\n",
              "    <tr>\n",
              "      <th>6</th>\n",
              "      <td>80715.700000</td>\n",
              "      <td>1.789363e+06</td>\n",
              "    </tr>\n",
              "    <tr>\n",
              "      <th>7</th>\n",
              "      <td>324448.935484</td>\n",
              "      <td>2.248663e+06</td>\n",
              "    </tr>\n",
              "    <tr>\n",
              "      <th>8</th>\n",
              "      <td>579115.741935</td>\n",
              "      <td>2.517742e+06</td>\n",
              "    </tr>\n",
              "    <tr>\n",
              "      <th>9</th>\n",
              "      <td>652934.433333</td>\n",
              "      <td>NaN</td>\n",
              "    </tr>\n",
              "    <tr>\n",
              "      <th>10</th>\n",
              "      <td>700353.258065</td>\n",
              "      <td>NaN</td>\n",
              "    </tr>\n",
              "    <tr>\n",
              "      <th>11</th>\n",
              "      <td>754222.633333</td>\n",
              "      <td>NaN</td>\n",
              "    </tr>\n",
              "    <tr>\n",
              "      <th>12</th>\n",
              "      <td>898158.580645</td>\n",
              "      <td>NaN</td>\n",
              "    </tr>\n",
              "  </tbody>\n",
              "</table>\n",
              "</div>"
            ],
            "text/plain": [
              "year            2020          2021\n",
              "month                             \n",
              "1           0.000000  1.298087e+06\n",
              "2           0.000000  1.489687e+06\n",
              "3         328.161290  1.531363e+06\n",
              "4        2934.800000  1.564093e+06\n",
              "5       16044.322581  1.616826e+06\n",
              "6       80715.700000  1.789363e+06\n",
              "7      324448.935484  2.248663e+06\n",
              "8      579115.741935  2.517742e+06\n",
              "9      652934.433333           NaN\n",
              "10     700353.258065           NaN\n",
              "11     754222.633333           NaN\n",
              "12     898158.580645           NaN"
            ]
          },
          "metadata": {},
          "execution_count": 96
        }
      ]
    },
    {
      "cell_type": "code",
      "metadata": {
        "colab": {
          "base_uri": "https://localhost:8080/",
          "height": 307
        },
        "id": "JL7-jE2sfn9s",
        "outputId": "2cad9e15-e0ce-4b24-db09-78ace8366819"
      },
      "source": [
        "sns.heatmap(pvSA,cmap='Blues',linecolor='white',linewidths=1)  "
      ],
      "execution_count": null,
      "outputs": [
        {
          "output_type": "execute_result",
          "data": {
            "text/plain": [
              "<matplotlib.axes._subplots.AxesSubplot at 0x7f06879d1d50>"
            ]
          },
          "metadata": {},
          "execution_count": 97
        },
        {
          "output_type": "display_data",
          "data": {
            "image/png": "[encoded data removed]",
            "text/plain": [
              "<Figure size 432x288 with 2 Axes>"
            ]
          },
          "metadata": {
            "needs_background": "light"
          }
        }
      ]
    },
    {
      "cell_type": "code",
      "metadata": {
        "colab": {
          "base_uri": "https://localhost:8080/",
          "height": 424
        },
        "id": "mMfGVgDwIu-C",
        "outputId": "75471f80-e242-4b7a-d81e-1d87cd2e2a03"
      },
      "source": [
        "SouthAfrica_data"
      ],
      "execution_count": null,
      "outputs": [
        {
          "output_type": "execute_result",
          "data": {
            "text/html": [
              "<div>\n",
              "<style scoped>\n",
              "    .dataframe tbody tr th:only-of-type {\n",
              "        vertical-align: middle;\n",
              "    }\n",
              "\n",
              "    .dataframe tbody tr th {\n",
              "        vertical-align: top;\n",
              "    }\n",
              "\n",
              "    .dataframe thead th {\n",
              "        text-align: right;\n",
              "    }\n",
              "</style>\n",
              "<table border=\"1\" class=\"dataframe\">\n",
              "  <thead>\n",
              "    <tr style=\"text-align: right;\">\n",
              "      <th></th>\n",
              "      <th>State</th>\n",
              "      <th>Country</th>\n",
              "      <th>Lat</th>\n",
              "      <th>Long</th>\n",
              "      <th>Date</th>\n",
              "      <th>Confirmed</th>\n",
              "      <th>Deaths</th>\n",
              "      <th>Recovered</th>\n",
              "      <th>Active</th>\n",
              "      <th>year</th>\n",
              "      <th>month</th>\n",
              "    </tr>\n",
              "  </thead>\n",
              "  <tbody>\n",
              "    <tr>\n",
              "      <th>235</th>\n",
              "      <td>NaN</td>\n",
              "      <td>South Africa</td>\n",
              "      <td>-30.5595</td>\n",
              "      <td>22.9375</td>\n",
              "      <td>1/22/20</td>\n",
              "      <td>0</td>\n",
              "      <td>0</td>\n",
              "      <td>0</td>\n",
              "      <td>0</td>\n",
              "      <td>2020</td>\n",
              "      <td>1</td>\n",
              "    </tr>\n",
              "    <tr>\n",
              "      <th>514</th>\n",
              "      <td>NaN</td>\n",
              "      <td>South Africa</td>\n",
              "      <td>-30.5595</td>\n",
              "      <td>22.9375</td>\n",
              "      <td>1/23/20</td>\n",
              "      <td>0</td>\n",
              "      <td>0</td>\n",
              "      <td>0</td>\n",
              "      <td>0</td>\n",
              "      <td>2020</td>\n",
              "      <td>1</td>\n",
              "    </tr>\n",
              "    <tr>\n",
              "      <th>793</th>\n",
              "      <td>NaN</td>\n",
              "      <td>South Africa</td>\n",
              "      <td>-30.5595</td>\n",
              "      <td>22.9375</td>\n",
              "      <td>1/24/20</td>\n",
              "      <td>0</td>\n",
              "      <td>0</td>\n",
              "      <td>0</td>\n",
              "      <td>0</td>\n",
              "      <td>2020</td>\n",
              "      <td>1</td>\n",
              "    </tr>\n",
              "    <tr>\n",
              "      <th>1072</th>\n",
              "      <td>NaN</td>\n",
              "      <td>South Africa</td>\n",
              "      <td>-30.5595</td>\n",
              "      <td>22.9375</td>\n",
              "      <td>1/25/20</td>\n",
              "      <td>0</td>\n",
              "      <td>0</td>\n",
              "      <td>0</td>\n",
              "      <td>0</td>\n",
              "      <td>2020</td>\n",
              "      <td>1</td>\n",
              "    </tr>\n",
              "    <tr>\n",
              "      <th>1351</th>\n",
              "      <td>NaN</td>\n",
              "      <td>South Africa</td>\n",
              "      <td>-30.5595</td>\n",
              "      <td>22.9375</td>\n",
              "      <td>1/26/20</td>\n",
              "      <td>0</td>\n",
              "      <td>0</td>\n",
              "      <td>0</td>\n",
              "      <td>0</td>\n",
              "      <td>2020</td>\n",
              "      <td>1</td>\n",
              "    </tr>\n",
              "    <tr>\n",
              "      <th>...</th>\n",
              "      <td>...</td>\n",
              "      <td>...</td>\n",
              "      <td>...</td>\n",
              "      <td>...</td>\n",
              "      <td>...</td>\n",
              "      <td>...</td>\n",
              "      <td>...</td>\n",
              "      <td>...</td>\n",
              "      <td>...</td>\n",
              "      <td>...</td>\n",
              "      <td>...</td>\n",
              "    </tr>\n",
              "    <tr>\n",
              "      <th>157870</th>\n",
              "      <td>NaN</td>\n",
              "      <td>South Africa</td>\n",
              "      <td>-30.5595</td>\n",
              "      <td>22.9375</td>\n",
              "      <td>8/9/21</td>\n",
              "      <td>2540222</td>\n",
              "      <td>75012</td>\n",
              "      <td>0</td>\n",
              "      <td>2465210</td>\n",
              "      <td>2021</td>\n",
              "      <td>8</td>\n",
              "    </tr>\n",
              "    <tr>\n",
              "      <th>158149</th>\n",
              "      <td>NaN</td>\n",
              "      <td>South Africa</td>\n",
              "      <td>-30.5595</td>\n",
              "      <td>22.9375</td>\n",
              "      <td>8/10/21</td>\n",
              "      <td>2546762</td>\n",
              "      <td>75201</td>\n",
              "      <td>0</td>\n",
              "      <td>2471561</td>\n",
              "      <td>2021</td>\n",
              "      <td>8</td>\n",
              "    </tr>\n",
              "    <tr>\n",
              "      <th>158428</th>\n",
              "      <td>NaN</td>\n",
              "      <td>South Africa</td>\n",
              "      <td>-30.5595</td>\n",
              "      <td>22.9375</td>\n",
              "      <td>8/11/21</td>\n",
              "      <td>2554240</td>\n",
              "      <td>75774</td>\n",
              "      <td>0</td>\n",
              "      <td>2478466</td>\n",
              "      <td>2021</td>\n",
              "      <td>8</td>\n",
              "    </tr>\n",
              "    <tr>\n",
              "      <th>158707</th>\n",
              "      <td>NaN</td>\n",
              "      <td>South Africa</td>\n",
              "      <td>-30.5595</td>\n",
              "      <td>22.9375</td>\n",
              "      <td>8/12/21</td>\n",
              "      <td>2568511</td>\n",
              "      <td>76247</td>\n",
              "      <td>0</td>\n",
              "      <td>2492264</td>\n",
              "      <td>2021</td>\n",
              "      <td>8</td>\n",
              "    </tr>\n",
              "    <tr>\n",
              "      <th>158986</th>\n",
              "      <td>NaN</td>\n",
              "      <td>South Africa</td>\n",
              "      <td>-30.5595</td>\n",
              "      <td>22.9375</td>\n",
              "      <td>8/13/21</td>\n",
              "      <td>2582427</td>\n",
              "      <td>76631</td>\n",
              "      <td>0</td>\n",
              "      <td>2505796</td>\n",
              "      <td>2021</td>\n",
              "      <td>8</td>\n",
              "    </tr>\n",
              "  </tbody>\n",
              "</table>\n",
              "<p>570 rows × 11 columns</p>\n",
              "</div>"
            ],
            "text/plain": [
              "       State       Country      Lat     Long  ... Recovered   Active  year  month\n",
              "235      NaN  South Africa -30.5595  22.9375  ...         0        0  2020      1\n",
              "514      NaN  South Africa -30.5595  22.9375  ...         0        0  2020      1\n",
              "793      NaN  South Africa -30.5595  22.9375  ...         0        0  2020      1\n",
              "1072     NaN  South Africa -30.5595  22.9375  ...         0        0  2020      1\n",
              "1351     NaN  South Africa -30.5595  22.9375  ...         0        0  2020      1\n",
              "...      ...           ...      ...      ...  ...       ...      ...   ...    ...\n",
              "157870   NaN  South Africa -30.5595  22.9375  ...         0  2465210  2021      8\n",
              "158149   NaN  South Africa -30.5595  22.9375  ...         0  2471561  2021      8\n",
              "158428   NaN  South Africa -30.5595  22.9375  ...         0  2478466  2021      8\n",
              "158707   NaN  South Africa -30.5595  22.9375  ...         0  2492264  2021      8\n",
              "158986   NaN  South Africa -30.5595  22.9375  ...         0  2505796  2021      8\n",
              "\n",
              "[570 rows x 11 columns]"
            ]
          },
          "metadata": {},
          "execution_count": 98
        }
      ]
    },
    {
      "cell_type": "code",
      "metadata": {
        "colab": {
          "base_uri": "https://localhost:8080/"
        },
        "id": "mnFgcyXrvZHE",
        "outputId": "2dc2d4d9-02ef-459c-c96c-ef8648c36e7c"
      },
      "source": [
        "% pip install geopandas"
      ],
      "execution_count": null,
      "outputs": [
        {
          "output_type": "stream",
          "name": "stdout",
          "text": [
            "Requirement already satisfied: geopandas in /usr/local/lib/python3.7/dist-packages (0.10.0)\n",
            "Requirement already satisfied: pyproj>=2.2.0 in /usr/local/lib/python3.7/dist-packages (from geopandas) (3.2.1)\n",
            "Requirement already satisfied: pandas>=0.25.0 in /usr/local/lib/python3.7/dist-packages (from geopandas) (1.1.5)\n",
            "Requirement already satisfied: shapely>=1.6 in /usr/local/lib/python3.7/dist-packages (from geopandas) (1.7.1)\n",
            "Requirement already satisfied: fiona>=1.8 in /usr/local/lib/python3.7/dist-packages (from geopandas) (1.8.20)\n",
            "Requirement already satisfied: certifi in /usr/local/lib/python3.7/dist-packages (from fiona>=1.8->geopandas) (2021.5.30)\n",
            "Requirement already satisfied: setuptools in /usr/local/lib/python3.7/dist-packages (from fiona>=1.8->geopandas) (57.4.0)\n",
            "Requirement already satisfied: cligj>=0.5 in /usr/local/lib/python3.7/dist-packages (from fiona>=1.8->geopandas) (0.7.2)\n",
            "Requirement already satisfied: attrs>=17 in /usr/local/lib/python3.7/dist-packages (from fiona>=1.8->geopandas) (21.2.0)\n",
            "Requirement already satisfied: click-plugins>=1.0 in /usr/local/lib/python3.7/dist-packages (from fiona>=1.8->geopandas) (1.1.1)\n",
            "Requirement already satisfied: munch in /usr/local/lib/python3.7/dist-packages (from fiona>=1.8->geopandas) (2.5.0)\n",
            "Requirement already satisfied: click>=4.0 in /usr/local/lib/python3.7/dist-packages (from fiona>=1.8->geopandas) (7.1.2)\n",
            "Requirement already satisfied: six>=1.7 in /usr/local/lib/python3.7/dist-packages (from fiona>=1.8->geopandas) (1.15.0)\n",
            "Requirement already satisfied: python-dateutil>=2.7.3 in /usr/local/lib/python3.7/dist-packages (from pandas>=0.25.0->geopandas) (2.8.2)\n",
            "Requirement already satisfied: numpy>=1.15.4 in /usr/local/lib/python3.7/dist-packages (from pandas>=0.25.0->geopandas) (1.19.5)\n",
            "Requirement already satisfied: pytz>=2017.2 in /usr/local/lib/python3.7/dist-packages (from pandas>=0.25.0->geopandas) (2018.9)\n"
          ]
        }
      ]
    },
    {
      "cell_type": "code",
      "metadata": {
        "id": "noa9IAA7vf0H"
      },
      "source": [
        "import geopandas as gpd\n",
        "from shapely.geometry import Point, Polygon"
      ],
      "execution_count": null,
      "outputs": []
    },
    {
      "cell_type": "code",
      "metadata": {
        "id": "R58qCB17f4I4"
      },
      "source": [
        " DSAHostcountries = data[(data['Country'] =='South Africa')|(data['Country'] =='Kenya')|(data['Country'] =='Uganda')|(data['Country'] =='Tanzania')|(data['Country'] =='Ethiopia')|(data['Country'] =='Ghana')|(data['Country'] =='Nigeria')]"
      ],
      "execution_count": null,
      "outputs": []
    },
    {
      "cell_type": "code",
      "metadata": {
        "colab": {
          "base_uri": "https://localhost:8080/",
          "height": 424
        },
        "id": "0tBFa7Cxuwz6",
        "outputId": "0bdc14ae-c79d-44f8-d25e-56c324895b50"
      },
      "source": [
        "DSAHostcountries"
      ],
      "execution_count": null,
      "outputs": [
        {
          "output_type": "execute_result",
          "data": {
            "text/html": [
              "<div>\n",
              "<style scoped>\n",
              "    .dataframe tbody tr th:only-of-type {\n",
              "        vertical-align: middle;\n",
              "    }\n",
              "\n",
              "    .dataframe tbody tr th {\n",
              "        vertical-align: top;\n",
              "    }\n",
              "\n",
              "    .dataframe thead th {\n",
              "        text-align: right;\n",
              "    }\n",
              "</style>\n",
              "<table border=\"1\" class=\"dataframe\">\n",
              "  <thead>\n",
              "    <tr style=\"text-align: right;\">\n",
              "      <th></th>\n",
              "      <th>State</th>\n",
              "      <th>Country</th>\n",
              "      <th>Lat</th>\n",
              "      <th>Long</th>\n",
              "      <th>Date</th>\n",
              "      <th>Confirmed</th>\n",
              "      <th>Deaths</th>\n",
              "      <th>Recovered</th>\n",
              "      <th>Active</th>\n",
              "      <th>year</th>\n",
              "      <th>month</th>\n",
              "    </tr>\n",
              "  </thead>\n",
              "  <tbody>\n",
              "    <tr>\n",
              "      <th>116</th>\n",
              "      <td>NaN</td>\n",
              "      <td>Ethiopia</td>\n",
              "      <td>9.145000</td>\n",
              "      <td>40.489700</td>\n",
              "      <td>1/22/20</td>\n",
              "      <td>0</td>\n",
              "      <td>0</td>\n",
              "      <td>0</td>\n",
              "      <td>0</td>\n",
              "      <td>2020</td>\n",
              "      <td>1</td>\n",
              "    </tr>\n",
              "    <tr>\n",
              "      <th>135</th>\n",
              "      <td>NaN</td>\n",
              "      <td>Ghana</td>\n",
              "      <td>7.946500</td>\n",
              "      <td>-1.023200</td>\n",
              "      <td>1/22/20</td>\n",
              "      <td>0</td>\n",
              "      <td>0</td>\n",
              "      <td>0</td>\n",
              "      <td>0</td>\n",
              "      <td>2020</td>\n",
              "      <td>1</td>\n",
              "    </tr>\n",
              "    <tr>\n",
              "      <th>158</th>\n",
              "      <td>NaN</td>\n",
              "      <td>Kenya</td>\n",
              "      <td>-0.023600</td>\n",
              "      <td>37.906200</td>\n",
              "      <td>1/22/20</td>\n",
              "      <td>0</td>\n",
              "      <td>0</td>\n",
              "      <td>0</td>\n",
              "      <td>0</td>\n",
              "      <td>2020</td>\n",
              "      <td>1</td>\n",
              "    </tr>\n",
              "    <tr>\n",
              "      <th>202</th>\n",
              "      <td>NaN</td>\n",
              "      <td>Nigeria</td>\n",
              "      <td>9.082000</td>\n",
              "      <td>8.675300</td>\n",
              "      <td>1/22/20</td>\n",
              "      <td>0</td>\n",
              "      <td>0</td>\n",
              "      <td>0</td>\n",
              "      <td>0</td>\n",
              "      <td>2020</td>\n",
              "      <td>1</td>\n",
              "    </tr>\n",
              "    <tr>\n",
              "      <th>235</th>\n",
              "      <td>NaN</td>\n",
              "      <td>South Africa</td>\n",
              "      <td>-30.559500</td>\n",
              "      <td>22.937500</td>\n",
              "      <td>1/22/20</td>\n",
              "      <td>0</td>\n",
              "      <td>0</td>\n",
              "      <td>0</td>\n",
              "      <td>0</td>\n",
              "      <td>2020</td>\n",
              "      <td>1</td>\n",
              "    </tr>\n",
              "    <tr>\n",
              "      <th>...</th>\n",
              "      <td>...</td>\n",
              "      <td>...</td>\n",
              "      <td>...</td>\n",
              "      <td>...</td>\n",
              "      <td>...</td>\n",
              "      <td>...</td>\n",
              "      <td>...</td>\n",
              "      <td>...</td>\n",
              "      <td>...</td>\n",
              "      <td>...</td>\n",
              "      <td>...</td>\n",
              "    </tr>\n",
              "    <tr>\n",
              "      <th>158909</th>\n",
              "      <td>NaN</td>\n",
              "      <td>Kenya</td>\n",
              "      <td>-0.023600</td>\n",
              "      <td>37.906200</td>\n",
              "      <td>8/13/21</td>\n",
              "      <td>218713</td>\n",
              "      <td>4302</td>\n",
              "      <td>0</td>\n",
              "      <td>214411</td>\n",
              "      <td>2021</td>\n",
              "      <td>8</td>\n",
              "    </tr>\n",
              "    <tr>\n",
              "      <th>158953</th>\n",
              "      <td>NaN</td>\n",
              "      <td>Nigeria</td>\n",
              "      <td>9.082000</td>\n",
              "      <td>8.675300</td>\n",
              "      <td>8/13/21</td>\n",
              "      <td>181297</td>\n",
              "      <td>2211</td>\n",
              "      <td>0</td>\n",
              "      <td>179086</td>\n",
              "      <td>2021</td>\n",
              "      <td>8</td>\n",
              "    </tr>\n",
              "    <tr>\n",
              "      <th>158986</th>\n",
              "      <td>NaN</td>\n",
              "      <td>South Africa</td>\n",
              "      <td>-30.559500</td>\n",
              "      <td>22.937500</td>\n",
              "      <td>8/13/21</td>\n",
              "      <td>2582427</td>\n",
              "      <td>76631</td>\n",
              "      <td>0</td>\n",
              "      <td>2505796</td>\n",
              "      <td>2021</td>\n",
              "      <td>8</td>\n",
              "    </tr>\n",
              "    <tr>\n",
              "      <th>158998</th>\n",
              "      <td>NaN</td>\n",
              "      <td>Tanzania</td>\n",
              "      <td>-6.369028</td>\n",
              "      <td>34.888822</td>\n",
              "      <td>8/13/21</td>\n",
              "      <td>1367</td>\n",
              "      <td>50</td>\n",
              "      <td>0</td>\n",
              "      <td>1317</td>\n",
              "      <td>2021</td>\n",
              "      <td>8</td>\n",
              "    </tr>\n",
              "    <tr>\n",
              "      <th>159006</th>\n",
              "      <td>NaN</td>\n",
              "      <td>Uganda</td>\n",
              "      <td>1.373333</td>\n",
              "      <td>32.290275</td>\n",
              "      <td>8/13/21</td>\n",
              "      <td>96497</td>\n",
              "      <td>2856</td>\n",
              "      <td>0</td>\n",
              "      <td>93641</td>\n",
              "      <td>2021</td>\n",
              "      <td>8</td>\n",
              "    </tr>\n",
              "  </tbody>\n",
              "</table>\n",
              "<p>3990 rows × 11 columns</p>\n",
              "</div>"
            ],
            "text/plain": [
              "       State       Country        Lat  ...   Active  year  month\n",
              "116      NaN      Ethiopia   9.145000  ...        0  2020      1\n",
              "135      NaN         Ghana   7.946500  ...        0  2020      1\n",
              "158      NaN         Kenya  -0.023600  ...        0  2020      1\n",
              "202      NaN       Nigeria   9.082000  ...        0  2020      1\n",
              "235      NaN  South Africa -30.559500  ...        0  2020      1\n",
              "...      ...           ...        ...  ...      ...   ...    ...\n",
              "158909   NaN         Kenya  -0.023600  ...   214411  2021      8\n",
              "158953   NaN       Nigeria   9.082000  ...   179086  2021      8\n",
              "158986   NaN  South Africa -30.559500  ...  2505796  2021      8\n",
              "158998   NaN      Tanzania  -6.369028  ...     1317  2021      8\n",
              "159006   NaN        Uganda   1.373333  ...    93641  2021      8\n",
              "\n",
              "[3990 rows x 11 columns]"
            ]
          },
          "metadata": {},
          "execution_count": 102
        }
      ]
    },
    {
      "cell_type": "code",
      "metadata": {
        "id": "e5WQa99Du0Df"
      },
      "source": [
        "Africa_df = gpd.read_file('/content/Africa.shp')"
      ],
      "execution_count": null,
      "outputs": []
    },
    {
      "cell_type": "code",
      "metadata": {
        "colab": {
          "base_uri": "https://localhost:8080/"
        },
        "id": "u8c244KPxqDY",
        "outputId": "aafde261-4a7b-41cb-deca-5fb79fa42a44"
      },
      "source": [
        "Africa_df.columns"
      ],
      "execution_count": null,
      "outputs": [
        {
          "output_type": "execute_result",
          "data": {
            "text/plain": [
              "Index(['ID', 'CODE', 'COUNTRY', 'geometry'], dtype='object')"
            ]
          },
          "metadata": {},
          "execution_count": 135
        }
      ]
    },
    {
      "cell_type": "code",
      "metadata": {
        "colab": {
          "base_uri": "https://localhost:8080/",
          "height": 206
        },
        "id": "cgOxhkSfzRgp",
        "outputId": "2138f253-a6da-4b5d-d26f-7e39bcb1b396"
      },
      "source": [
        "Africa_df.head()"
      ],
      "execution_count": null,
      "outputs": [
        {
          "output_type": "execute_result",
          "data": {
            "text/html": [
              "<div>\n",
              "<style scoped>\n",
              "    .dataframe tbody tr th:only-of-type {\n",
              "        vertical-align: middle;\n",
              "    }\n",
              "\n",
              "    .dataframe tbody tr th {\n",
              "        vertical-align: top;\n",
              "    }\n",
              "\n",
              "    .dataframe thead th {\n",
              "        text-align: right;\n",
              "    }\n",
              "</style>\n",
              "<table border=\"1\" class=\"dataframe\">\n",
              "  <thead>\n",
              "    <tr style=\"text-align: right;\">\n",
              "      <th></th>\n",
              "      <th>ID</th>\n",
              "      <th>CODE</th>\n",
              "      <th>COUNTRY</th>\n",
              "      <th>geometry</th>\n",
              "    </tr>\n",
              "  </thead>\n",
              "  <tbody>\n",
              "    <tr>\n",
              "      <th>0</th>\n",
              "      <td>1</td>\n",
              "      <td>ALG</td>\n",
              "      <td>Algeria</td>\n",
              "      <td>POLYGON ((-5.76362 25.58625, -5.84122 25.63542...</td>\n",
              "    </tr>\n",
              "    <tr>\n",
              "      <th>1</th>\n",
              "      <td>2</td>\n",
              "      <td>ANG</td>\n",
              "      <td>Angola</td>\n",
              "      <td>POLYGON ((13.36632 -8.32173, 13.36623 -8.32155...</td>\n",
              "    </tr>\n",
              "    <tr>\n",
              "      <th>2</th>\n",
              "      <td>3</td>\n",
              "      <td>ANG</td>\n",
              "      <td>Angola</td>\n",
              "      <td>POLYGON ((12.80576 -4.80649, 12.80092 -4.81917...</td>\n",
              "    </tr>\n",
              "    <tr>\n",
              "      <th>3</th>\n",
              "      <td>4</td>\n",
              "      <td>ANG</td>\n",
              "      <td>Angola</td>\n",
              "      <td>POLYGON ((11.76834 -16.79933, 11.76404 -16.799...</td>\n",
              "    </tr>\n",
              "    <tr>\n",
              "      <th>4</th>\n",
              "      <td>5</td>\n",
              "      <td>ANG</td>\n",
              "      <td>Angola</td>\n",
              "      <td>POLYGON ((12.89840 -5.98802, 12.89370 -5.98675...</td>\n",
              "    </tr>\n",
              "  </tbody>\n",
              "</table>\n",
              "</div>"
            ],
            "text/plain": [
              "  ID CODE  COUNTRY                                           geometry\n",
              "0  1  ALG  Algeria  POLYGON ((-5.76362 25.58625, -5.84122 25.63542...\n",
              "1  2  ANG   Angola  POLYGON ((13.36632 -8.32173, 13.36623 -8.32155...\n",
              "2  3  ANG   Angola  POLYGON ((12.80576 -4.80649, 12.80092 -4.81917...\n",
              "3  4  ANG   Angola  POLYGON ((11.76834 -16.79933, 11.76404 -16.799...\n",
              "4  5  ANG   Angola  POLYGON ((12.89840 -5.98802, 12.89370 -5.98675..."
            ]
          },
          "metadata": {},
          "execution_count": 136
        }
      ]
    },
    {
      "cell_type": "code",
      "metadata": {
        "colab": {
          "base_uri": "https://localhost:8080/"
        },
        "id": "8A_1hapnxJqD",
        "outputId": "1bec894a-72b2-4a03-bd80-f9b0ea224d23"
      },
      "source": [
        "Africa_df['COUNTRY'].unique()"
      ],
      "execution_count": null,
      "outputs": [
        {
          "output_type": "execute_result",
          "data": {
            "text/plain": [
              "array(['Algeria', 'Angola', 'Benin', 'Botswana', 'Burkina Faso',\n",
              "       'Burundi', 'Cameroon', 'Cape Verde', 'Central African Republic',\n",
              "       'Chad', 'Comoros', 'Congo-Brazzaville', 'Cote d`Ivoire',\n",
              "       'Democratic Republic of Congo', 'Djibouti', 'Egypt',\n",
              "       'Equatorial Guinea', 'Eritrea', 'Ethiopia', 'Gabon', 'Gambia',\n",
              "       'Ghana', 'Guinea', 'Guinea-Bissau', 'Kenya', 'Lesotho', 'Liberia',\n",
              "       'Libya', 'Madagascar', 'Malawi', 'Mali', 'Mauritania', 'Morocco',\n",
              "       'Mozambique', 'Namibia', 'Niger', 'Nigeria', 'Rwanda',\n",
              "       'Sao Tome and Principe', 'Senegal', 'Sierra Leone', 'Somalia',\n",
              "       'South Africa', 'Sudan', 'Swaziland', 'Tanzania', 'Togo',\n",
              "       'Tunisia', 'Uganda', 'Western Sahara', 'Zambia', 'Zimbabwe'],\n",
              "      dtype=object)"
            ]
          },
          "metadata": {},
          "execution_count": 105
        }
      ]
    },
    {
      "cell_type": "code",
      "metadata": {
        "colab": {
          "base_uri": "https://localhost:8080/",
          "height": 283
        },
        "id": "40Yw1EgIxJwF",
        "outputId": "5274ddb9-e769-480a-8082-09bbea4ddb63"
      },
      "source": [
        "Africa_df.plot()"
      ],
      "execution_count": null,
      "outputs": [
        {
          "output_type": "execute_result",
          "data": {
            "text/plain": [
              "<matplotlib.axes._subplots.AxesSubplot at 0x7f06850f9150>"
            ]
          },
          "metadata": {},
          "execution_count": 106
        },
        {
          "output_type": "display_data",
          "data": {
            "image/png": "[encoded data removed]",
            "text/plain": [
              "<Figure size 432x288 with 1 Axes>"
            ]
          },
          "metadata": {
            "needs_background": "light"
          }
        }
      ]
    },
    {
      "cell_type": "code",
      "metadata": {
        "id": "sCPfJOtixQRP"
      },
      "source": [
        "merged_set = Africa_df.merge(data, left_on='COUNTRY', right_on='Country')"
      ],
      "execution_count": null,
      "outputs": []
    },
    {
      "cell_type": "code",
      "metadata": {
        "colab": {
          "base_uri": "https://localhost:8080/"
        },
        "id": "-rEN75IQz1SS",
        "outputId": "075d291f-785b-4a44-c40c-4764949258f2"
      },
      "source": [
        "data.columns"
      ],
      "execution_count": null,
      "outputs": [
        {
          "output_type": "execute_result",
          "data": {
            "text/plain": [
              "Index(['State', 'Country', 'Lat', 'Long', 'Date', 'Confirmed', 'Deaths',\n",
              "       'Recovered', 'Active', 'year', 'month'],\n",
              "      dtype='object')"
            ]
          },
          "metadata": {},
          "execution_count": 137
        }
      ]
    },
    {
      "cell_type": "code",
      "metadata": {
        "colab": {
          "base_uri": "https://localhost:8080/",
          "height": 597
        },
        "id": "nphwj_Z6x3UE",
        "outputId": "5757e877-0159-4308-b25d-0f4f0ad36291"
      },
      "source": [
        "merged_set"
      ],
      "execution_count": null,
      "outputs": [
        {
          "output_type": "execute_result",
          "data": {
            "text/html": [
              "<div>\n",
              "<style scoped>\n",
              "    .dataframe tbody tr th:only-of-type {\n",
              "        vertical-align: middle;\n",
              "    }\n",
              "\n",
              "    .dataframe tbody tr th {\n",
              "        vertical-align: top;\n",
              "    }\n",
              "\n",
              "    .dataframe thead th {\n",
              "        text-align: right;\n",
              "    }\n",
              "</style>\n",
              "<table border=\"1\" class=\"dataframe\">\n",
              "  <thead>\n",
              "    <tr style=\"text-align: right;\">\n",
              "      <th></th>\n",
              "      <th>ID</th>\n",
              "      <th>CODE</th>\n",
              "      <th>COUNTRY</th>\n",
              "      <th>geometry</th>\n",
              "      <th>State</th>\n",
              "      <th>Country</th>\n",
              "      <th>Lat</th>\n",
              "      <th>Long</th>\n",
              "      <th>Date</th>\n",
              "      <th>Confirmed</th>\n",
              "      <th>Deaths</th>\n",
              "      <th>Recovered</th>\n",
              "      <th>Active</th>\n",
              "      <th>year</th>\n",
              "      <th>month</th>\n",
              "    </tr>\n",
              "  </thead>\n",
              "  <tbody>\n",
              "    <tr>\n",
              "      <th>0</th>\n",
              "      <td>1</td>\n",
              "      <td>ALG</td>\n",
              "      <td>Algeria</td>\n",
              "      <td>POLYGON ((-5.76362 25.58625, -5.84122 25.63542...</td>\n",
              "      <td>NaN</td>\n",
              "      <td>Algeria</td>\n",
              "      <td>28.033900</td>\n",
              "      <td>1.659600</td>\n",
              "      <td>1/22/20</td>\n",
              "      <td>0</td>\n",
              "      <td>0</td>\n",
              "      <td>0</td>\n",
              "      <td>0</td>\n",
              "      <td>2020</td>\n",
              "      <td>1</td>\n",
              "    </tr>\n",
              "    <tr>\n",
              "      <th>1</th>\n",
              "      <td>1</td>\n",
              "      <td>ALG</td>\n",
              "      <td>Algeria</td>\n",
              "      <td>POLYGON ((-5.76362 25.58625, -5.84122 25.63542...</td>\n",
              "      <td>NaN</td>\n",
              "      <td>Algeria</td>\n",
              "      <td>28.033900</td>\n",
              "      <td>1.659600</td>\n",
              "      <td>1/23/20</td>\n",
              "      <td>0</td>\n",
              "      <td>0</td>\n",
              "      <td>0</td>\n",
              "      <td>0</td>\n",
              "      <td>2020</td>\n",
              "      <td>1</td>\n",
              "    </tr>\n",
              "    <tr>\n",
              "      <th>2</th>\n",
              "      <td>1</td>\n",
              "      <td>ALG</td>\n",
              "      <td>Algeria</td>\n",
              "      <td>POLYGON ((-5.76362 25.58625, -5.84122 25.63542...</td>\n",
              "      <td>NaN</td>\n",
              "      <td>Algeria</td>\n",
              "      <td>28.033900</td>\n",
              "      <td>1.659600</td>\n",
              "      <td>1/24/20</td>\n",
              "      <td>0</td>\n",
              "      <td>0</td>\n",
              "      <td>0</td>\n",
              "      <td>0</td>\n",
              "      <td>2020</td>\n",
              "      <td>1</td>\n",
              "    </tr>\n",
              "    <tr>\n",
              "      <th>3</th>\n",
              "      <td>1</td>\n",
              "      <td>ALG</td>\n",
              "      <td>Algeria</td>\n",
              "      <td>POLYGON ((-5.76362 25.58625, -5.84122 25.63542...</td>\n",
              "      <td>NaN</td>\n",
              "      <td>Algeria</td>\n",
              "      <td>28.033900</td>\n",
              "      <td>1.659600</td>\n",
              "      <td>1/25/20</td>\n",
              "      <td>0</td>\n",
              "      <td>0</td>\n",
              "      <td>0</td>\n",
              "      <td>0</td>\n",
              "      <td>2020</td>\n",
              "      <td>1</td>\n",
              "    </tr>\n",
              "    <tr>\n",
              "      <th>4</th>\n",
              "      <td>1</td>\n",
              "      <td>ALG</td>\n",
              "      <td>Algeria</td>\n",
              "      <td>POLYGON ((-5.76362 25.58625, -5.84122 25.63542...</td>\n",
              "      <td>NaN</td>\n",
              "      <td>Algeria</td>\n",
              "      <td>28.033900</td>\n",
              "      <td>1.659600</td>\n",
              "      <td>1/26/20</td>\n",
              "      <td>0</td>\n",
              "      <td>0</td>\n",
              "      <td>0</td>\n",
              "      <td>0</td>\n",
              "      <td>2020</td>\n",
              "      <td>1</td>\n",
              "    </tr>\n",
              "    <tr>\n",
              "      <th>...</th>\n",
              "      <td>...</td>\n",
              "      <td>...</td>\n",
              "      <td>...</td>\n",
              "      <td>...</td>\n",
              "      <td>...</td>\n",
              "      <td>...</td>\n",
              "      <td>...</td>\n",
              "      <td>...</td>\n",
              "      <td>...</td>\n",
              "      <td>...</td>\n",
              "      <td>...</td>\n",
              "      <td>...</td>\n",
              "      <td>...</td>\n",
              "      <td>...</td>\n",
              "      <td>...</td>\n",
              "    </tr>\n",
              "    <tr>\n",
              "      <th>415525</th>\n",
              "      <td>762</td>\n",
              "      <td>ZIM</td>\n",
              "      <td>Zimbabwe</td>\n",
              "      <td>POLYGON ((27.60406 -17.35797, 27.60600 -17.355...</td>\n",
              "      <td>NaN</td>\n",
              "      <td>Zimbabwe</td>\n",
              "      <td>-19.015438</td>\n",
              "      <td>29.154857</td>\n",
              "      <td>8/9/21</td>\n",
              "      <td>116853</td>\n",
              "      <td>3919</td>\n",
              "      <td>0</td>\n",
              "      <td>112934</td>\n",
              "      <td>2021</td>\n",
              "      <td>8</td>\n",
              "    </tr>\n",
              "    <tr>\n",
              "      <th>415526</th>\n",
              "      <td>762</td>\n",
              "      <td>ZIM</td>\n",
              "      <td>Zimbabwe</td>\n",
              "      <td>POLYGON ((27.60406 -17.35797, 27.60600 -17.355...</td>\n",
              "      <td>NaN</td>\n",
              "      <td>Zimbabwe</td>\n",
              "      <td>-19.015438</td>\n",
              "      <td>29.154857</td>\n",
              "      <td>8/10/21</td>\n",
              "      <td>117258</td>\n",
              "      <td>3950</td>\n",
              "      <td>0</td>\n",
              "      <td>113308</td>\n",
              "      <td>2021</td>\n",
              "      <td>8</td>\n",
              "    </tr>\n",
              "    <tr>\n",
              "      <th>415527</th>\n",
              "      <td>762</td>\n",
              "      <td>ZIM</td>\n",
              "      <td>Zimbabwe</td>\n",
              "      <td>POLYGON ((27.60406 -17.35797, 27.60600 -17.355...</td>\n",
              "      <td>NaN</td>\n",
              "      <td>Zimbabwe</td>\n",
              "      <td>-19.015438</td>\n",
              "      <td>29.154857</td>\n",
              "      <td>8/11/21</td>\n",
              "      <td>117954</td>\n",
              "      <td>3991</td>\n",
              "      <td>0</td>\n",
              "      <td>113963</td>\n",
              "      <td>2021</td>\n",
              "      <td>8</td>\n",
              "    </tr>\n",
              "    <tr>\n",
              "      <th>415528</th>\n",
              "      <td>762</td>\n",
              "      <td>ZIM</td>\n",
              "      <td>Zimbabwe</td>\n",
              "      <td>POLYGON ((27.60406 -17.35797, 27.60600 -17.355...</td>\n",
              "      <td>NaN</td>\n",
              "      <td>Zimbabwe</td>\n",
              "      <td>-19.015438</td>\n",
              "      <td>29.154857</td>\n",
              "      <td>8/12/21</td>\n",
              "      <td>118754</td>\n",
              "      <td>4047</td>\n",
              "      <td>0</td>\n",
              "      <td>114707</td>\n",
              "      <td>2021</td>\n",
              "      <td>8</td>\n",
              "    </tr>\n",
              "    <tr>\n",
              "      <th>415529</th>\n",
              "      <td>762</td>\n",
              "      <td>ZIM</td>\n",
              "      <td>Zimbabwe</td>\n",
              "      <td>POLYGON ((27.60406 -17.35797, 27.60600 -17.355...</td>\n",
              "      <td>NaN</td>\n",
              "      <td>Zimbabwe</td>\n",
              "      <td>-19.015438</td>\n",
              "      <td>29.154857</td>\n",
              "      <td>8/13/21</td>\n",
              "      <td>119508</td>\n",
              "      <td>4073</td>\n",
              "      <td>0</td>\n",
              "      <td>115435</td>\n",
              "      <td>2021</td>\n",
              "      <td>8</td>\n",
              "    </tr>\n",
              "  </tbody>\n",
              "</table>\n",
              "<p>415530 rows × 15 columns</p>\n",
              "</div>"
            ],
            "text/plain": [
              "         ID CODE   COUNTRY  ...  Active  year month\n",
              "0         1  ALG   Algeria  ...       0  2020     1\n",
              "1         1  ALG   Algeria  ...       0  2020     1\n",
              "2         1  ALG   Algeria  ...       0  2020     1\n",
              "3         1  ALG   Algeria  ...       0  2020     1\n",
              "4         1  ALG   Algeria  ...       0  2020     1\n",
              "...     ...  ...       ...  ...     ...   ...   ...\n",
              "415525  762  ZIM  Zimbabwe  ...  112934  2021     8\n",
              "415526  762  ZIM  Zimbabwe  ...  113308  2021     8\n",
              "415527  762  ZIM  Zimbabwe  ...  113963  2021     8\n",
              "415528  762  ZIM  Zimbabwe  ...  114707  2021     8\n",
              "415529  762  ZIM  Zimbabwe  ...  115435  2021     8\n",
              "\n",
              "[415530 rows x 15 columns]"
            ]
          },
          "metadata": {},
          "execution_count": 138
        }
      ]
    },
    {
      "cell_type": "code",
      "metadata": {
        "id": "htzqCjQXx6Sc"
      },
      "source": [
        "colors = 10"
      ],
      "execution_count": null,
      "outputs": []
    },
    {
      "cell_type": "code",
      "metadata": {
        "id": "tkeY3BV3ykMD",
        "colab": {
          "base_uri": "https://localhost:8080/",
          "height": 445
        },
        "outputId": "fadf3585-45b6-41f2-f738-aed5c4292ef3"
      },
      "source": [
        "ax = merged_set.plot(column='Confirmed', cmap='Reds', figsize=(10,7), k=colors,legend=True)\n",
        "ax.axis('off')"
      ],
      "execution_count": null,
      "outputs": [
        {
          "output_type": "execute_result",
          "data": {
            "text/plain": [
              "(-20.982653626584217, 54.86044615832507, -51.1953567589866, 41.566047464706934)"
            ]
          },
          "metadata": {},
          "execution_count": 140
        },
        {
          "output_type": "display_data",
          "data": {
            "image/png": "[encoded data removed]",
            "text/plain": [
              "<Figure size 720x504 with 2 Axes>"
            ]
          },
          "metadata": {
            "needs_background": "light"
          }
        }
      ]
    },
    {
      "cell_type": "code",
      "metadata": {
        "id": "yKKo3VjHmqIs"
      },
      "source": [
        "DSAmerged_set = Africa_df.merge(DSAHostcountries, left_on='COUNTRY', right_on='Country')"
      ],
      "execution_count": null,
      "outputs": []
    },
    {
      "cell_type": "code",
      "metadata": {
        "id": "IxxaACwimqcY",
        "colab": {
          "base_uri": "https://localhost:8080/",
          "height": 445
        },
        "outputId": "bf5793ac-e18f-4ade-cc6a-d8acf9e99044"
      },
      "source": [
        "ax = DSAmerged_set.plot(column='Confirmed', cmap='Blues', figsize=(10,7), k=colors,legend=True)\n",
        "ax.axis('off')"
      ],
      "execution_count": null,
      "outputs": [
        {
          "output_type": "execute_result",
          "data": {
            "text/plain": [
              "(-5.817500000001747, 50.54826000000757, -50.07287375898668, 17.993904464708613)"
            ]
          },
          "metadata": {},
          "execution_count": 143
        },
        {
          "output_type": "display_data",
          "data": {
            "image/png": "[encoded data removed]",
            "text/plain": [
              "<Figure size 720x504 with 2 Axes>"
            ]
          },
          "metadata": {
            "needs_background": "light"
          }
        }
      ]
    },
    {
      "cell_type": "markdown",
      "metadata": {
        "id": "2-wOOLkfY4AZ"
      },
      "source": [
        "#**Take Home Exercise**\n",
        "Use the data shared during tutoorial  or any other complementary datasets they can find on other sources such as https://data.worldbank.org/, https://data.humdata.org/dataset/africa-coronavirus-covid-19-subnational-cases to; \n",
        "\n",
        "  1. Generate time series data on case incidence, recovery, fatalities of five countries (any chosen five countries)\n",
        "  2. Compare how Covid impacted the five countries over/during the different waves using column on dates.\n",
        "  3. Prepare a one paragraph write-up to summarise your findings and provide some explanations of your observations (e.g. if cases start coming down from a specific time (say January), it is likely because of vaccinations; or if cases peaked, it was because of mega-spreader events)"
      ]
    }
  ]
}